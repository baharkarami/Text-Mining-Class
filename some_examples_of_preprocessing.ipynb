{
  "nbformat": 4,
  "nbformat_minor": 0,
  "metadata": {
    "colab": {
      "provenance": [],
      "authorship_tag": "ABX9TyP1UuY2B/y1n/lyR+dU2KQL",
      "include_colab_link": true
    },
    "kernelspec": {
      "name": "python3",
      "display_name": "Python 3"
    },
    "language_info": {
      "name": "python"
    }
  },
  "cells": [
    {
      "cell_type": "markdown",
      "metadata": {
        "id": "view-in-github",
        "colab_type": "text"
      },
      "source": [
        "<a href=\"https://colab.research.google.com/github/baharkarami/Text-Mining-Class/blob/main/some_examples_of_preprocessing.ipynb\" target=\"_parent\"><img src=\"https://colab.research.google.com/assets/colab-badge.svg\" alt=\"Open In Colab\"/></a>"
      ]
    },
    {
      "cell_type": "markdown",
      "source": [
        "# Some Examples of Preprocessing\n",
        "\n"
      ],
      "metadata": {
        "id": "EeF-IrhDFZn-"
      }
    },
    {
      "cell_type": "markdown",
      "source": [
        "##  Case Normalization:\n",
        "\n",
        "  **This code changes all the letters to lowercase:**"
      ],
      "metadata": {
        "id": "oChG_jUgGAqE"
      }
    },
    {
      "cell_type": "code",
      "execution_count": null,
      "metadata": {
        "colab": {
          "base_uri": "https://localhost:8080/"
        },
        "id": "_bi606SyFWse",
        "outputId": "18dfa8c7-a0ef-45ac-a491-0589f31ed2b7"
      },
      "outputs": [
        {
          "output_type": "stream",
          "name": "stdout",
          "text": [
            "the 5 biggest countries by population in 2017 are china, india, united states, indonesia, and brazil.\n"
          ]
        }
      ],
      "source": [
        "input_str = \"The 5 biggest countries by population in 2017 are China, India, United States, Indonesia, and Brazil.\"\n",
        "input_str = input_str.lower()\n",
        "print(input_str)"
      ]
    },
    {
      "cell_type": "markdown",
      "source": [
        "## Noise Removal:"
      ],
      "metadata": {
        "id": "-2nauIdLJuAV"
      }
    },
    {
      "cell_type": "markdown",
      "source": [
        "\n",
        "### **This code removes all numeric digits from the input string using a regular expression.**\n",
        "\n",
        "The function `re.sub` is used to search and replace parts of a string based on a pattern:\n",
        "\n",
        "`r'\\d+'`: This pattern matches one or more digits (numbers).\n",
        "\n",
        "`''`: This is the replacement, an empty string, meaning the digits will be removed.\n",
        "\n",
        "`input_str`: The string where the replacement will occur."
      ],
      "metadata": {
        "id": "rM1SV8YONS7j"
      }
    },
    {
      "cell_type": "code",
      "source": [
        "import re\n",
        "input_str = 'Box A contains 3 red and 5 white balls, while Box B contains 4 red and 2 blue balls.'\n",
        "result = re.sub(r'\\d+', '', input_str)\n",
        "print(result)"
      ],
      "metadata": {
        "colab": {
          "base_uri": "https://localhost:8080/"
        },
        "id": "D-fJxcdWGivk",
        "outputId": "fe6ee91c-036f-4b0a-bcd2-10426e0abefd"
      },
      "execution_count": null,
      "outputs": [
        {
          "output_type": "stream",
          "name": "stdout",
          "text": [
            "Box A contains  red and  white balls, while Box B contains  red and  blue balls.\n"
          ]
        }
      ]
    },
    {
      "cell_type": "markdown",
      "source": [
        "### **This code removes punctuation marks from the input string, leaving only words and whitespace.**\n",
        "\n",
        "`string.punctuation` contains a string of all punctuation marks.\n",
        "\n",
        "The regular expression `r'[^\\w\\s]'` means:\n",
        "\n",
        "`\\w` matches any word character (letters, digits, and underscores).\n",
        "\n",
        "`\\s `matches any whitespace character.\n",
        "\n",
        "`[^\\w\\s]` means any character not a word character or whitespace (i.e., punctuation and special characters)."
      ],
      "metadata": {
        "id": "X-9WdchCNZnx"
      }
    },
    {
      "cell_type": "code",
      "source": [
        "import string\n",
        "print(string.punctuation)"
      ],
      "metadata": {
        "colab": {
          "base_uri": "https://localhost:8080/"
        },
        "id": "K0M5KZdfKCML",
        "outputId": "c510d269-71a6-4294-b458-2714e6737212"
      },
      "execution_count": null,
      "outputs": [
        {
          "output_type": "stream",
          "name": "stdout",
          "text": [
            "!\"#$%&'()*+,-./:;<=>?@[\\]^_`{|}~\n"
          ]
        }
      ]
    },
    {
      "cell_type": "code",
      "source": [
        "import re\n",
        "input_str = 'This &is [an] example? {of} string. with.? punctuation!!!!'\n",
        "result = re.sub(r'[^\\w\\s]', '', input_str)\n",
        "print(result)"
      ],
      "metadata": {
        "colab": {
          "base_uri": "https://localhost:8080/"
        },
        "id": "-Co86yXzNk3F",
        "outputId": "ba894d1f-543a-473a-953a-94a1208726bd"
      },
      "execution_count": null,
      "outputs": [
        {
          "output_type": "stream",
          "name": "stdout",
          "text": [
            "This is an example of string with punctuation\n"
          ]
        }
      ]
    },
    {
      "cell_type": "markdown",
      "source": [
        "### **This code removes leading and trailing whitespace characters (including spaces, tabs, and newlines)**\n",
        "\n",
        "The `strip()` method removes any leading and trailing whitespace characters (spaces, tabs, newlines, etc.)."
      ],
      "metadata": {
        "id": "Tzagaq8iPdXg"
      }
    },
    {
      "cell_type": "code",
      "source": [
        "input_str = \"\\tThis string has leading and trailing whitespaces.\\n\"\n",
        "print(\"befor: \",input_str)\n",
        "result = input_str.strip()\n",
        "print(\"after:\", result)"
      ],
      "metadata": {
        "colab": {
          "base_uri": "https://localhost:8080/"
        },
        "id": "ltl-jYAYN0Gc",
        "outputId": "57b9b339-50c1-491f-c67c-6fa7e8807727"
      },
      "execution_count": null,
      "outputs": [
        {
          "output_type": "stream",
          "name": "stdout",
          "text": [
            "befor:  \tThis string has leading and trailing whitespaces.\n",
            "\n",
            "after: This string has leading and trailing whitespaces.\n"
          ]
        }
      ]
    },
    {
      "cell_type": "code",
      "source": [],
      "metadata": {
        "id": "DCbVuS2fPyWy"
      },
      "execution_count": null,
      "outputs": []
    }
  ]
}
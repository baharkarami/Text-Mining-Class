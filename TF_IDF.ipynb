{
  "nbformat": 4,
  "nbformat_minor": 0,
  "metadata": {
    "colab": {
      "provenance": [],
      "authorship_tag": "ABX9TyNG0Atej5rctNTTpAwAFKqP",
      "include_colab_link": true
    },
    "kernelspec": {
      "name": "python3",
      "display_name": "Python 3"
    },
    "language_info": {
      "name": "python"
    }
  },
  "cells": [
    {
      "cell_type": "markdown",
      "metadata": {
        "id": "view-in-github",
        "colab_type": "text"
      },
      "source": [
        "<a href=\"https://colab.research.google.com/github/baharkarami/Text-Mining-Class/blob/main/TF_IDF.ipynb\" target=\"_parent\"><img src=\"https://colab.research.google.com/assets/colab-badge.svg\" alt=\"Open In Colab\"/></a>"
      ]
    },
    {
      "cell_type": "markdown",
      "source": [
        "\n",
        "1. **`sklearn`**: A Python library for machine learning. Here, we use it for feature extraction from text data.\n",
        "\n",
        "  **`TfidfVectorizer`**: A class from sklearn used to convert a collection of text documents into a matrix of TF-IDF features.\n",
        "\n",
        "2. The **`corpus`** is a list of text documents. Each string in the list is considered a single document.\n",
        "\n",
        "3. An instance of **`TfidfVectorizer`** is created. This tool converts the text documents into a matrix where:\n",
        "  - Each column represents a word (vocabulary).\n",
        "  - Each row represents a document.\n",
        "  - The values in the matrix are the TF-IDF scores for each word in a document.\n",
        "\n",
        "4. **`fit_transform(corpus)`**:\n",
        "  - **`fit`**: Learns the vocabulary from the corpus.\n",
        "  - **`transform`**: Calculates the TF-IDF scores for each word in each document.\n",
        "\n",
        "- The result, **`vc_on_corp`**, is a sparse matrix where rows correspond to documents and columns correspond to words.\n",
        "\n",
        "5. **`get_feature_names_out()`**: Returns the vocabulary (unique words) learned from the corpus, sorted alphabetically.\n",
        "\n",
        "\n",
        "6. **`toarray()`**: Converts the sparse matrix into a dense array for better readability."
      ],
      "metadata": {
        "id": "tOb-KvCnmE2J"
      }
    },
    {
      "cell_type": "code",
      "source": [
        "import sklearn\n",
        "from sklearn.feature_extraction.text import TfidfVectorizer\n",
        "\n",
        "corpus = ['This is a book', 'this is a cat', 'this is a dog', 'this is a draft of my notes']\n",
        "\n",
        "vc = TfidfVectorizer()\n",
        "vc_on_corp = vc.fit_transform(corpus)\n",
        "\n",
        "print(vc.get_feature_names_out())\n",
        "print(vc_on_corp.toarray())"
      ],
      "metadata": {
        "colab": {
          "base_uri": "https://localhost:8080/"
        },
        "id": "bfE9jPAVl8Zx",
        "outputId": "e4f1ab18-bd52-4915-9dfc-80ff20081901"
      },
      "execution_count": 1,
      "outputs": [
        {
          "output_type": "stream",
          "name": "stdout",
          "text": [
            "['book' 'cat' 'dog' 'draft' 'is' 'my' 'notes' 'of' 'this']\n",
            "[[0.8046125  0.         0.         0.         0.41988018 0.\n",
            "  0.         0.         0.41988018]\n",
            " [0.         0.8046125  0.         0.         0.41988018 0.\n",
            "  0.         0.         0.41988018]\n",
            " [0.         0.         0.8046125  0.         0.41988018 0.\n",
            "  0.         0.         0.41988018]\n",
            " [0.         0.         0.         0.46908376 0.24478737 0.46908376\n",
            "  0.46908376 0.46908376 0.24478737]]\n"
          ]
        }
      ]
    }
  ]
}
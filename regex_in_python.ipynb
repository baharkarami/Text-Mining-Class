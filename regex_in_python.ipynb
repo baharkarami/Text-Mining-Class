{
  "nbformat": 4,
  "nbformat_minor": 0,
  "metadata": {
    "colab": {
      "provenance": [],
      "authorship_tag": "ABX9TyMdbGXy71VuzRJ190vaYI51",
      "include_colab_link": true
    },
    "kernelspec": {
      "name": "python3",
      "display_name": "Python 3"
    },
    "language_info": {
      "name": "python"
    }
  },
  "cells": [
    {
      "cell_type": "markdown",
      "metadata": {
        "id": "view-in-github",
        "colab_type": "text"
      },
      "source": [
        "<a href=\"https://colab.research.google.com/github/baharkarami/Text-Mining-Class/blob/main/regex_in_python.ipynb\" target=\"_parent\"><img src=\"https://colab.research.google.com/assets/colab-badge.svg\" alt=\"Open In Colab\"/></a>"
      ]
    },
    {
      "cell_type": "markdown",
      "source": [
        "# RegEx in Python"
      ],
      "metadata": {
        "id": "NvVPx9lgXBfu"
      }
    },
    {
      "cell_type": "markdown",
      "source": [
        "## Functons for re\n",
        "**1. `search()`:**  Returns a Match object if there is a match anywhere in the string.\n",
        "\n",
        "**2. `sub()`:** Replaces one or many matches with a string.\n",
        "\n",
        "**3. `findall()`:** Returns a list containing all matches.\n",
        "\n",
        "**4. `split()`:** Returns a list where the string has been split at each match.\n"
      ],
      "metadata": {
        "id": "5yCoJyOUByNA"
      }
    },
    {
      "cell_type": "markdown",
      "source": [
        "## Properties and Methods for the Match object\n",
        "\n",
        "**1_ `.span()`:** returns a tuple containing the start, and end positions of the match.\n",
        "\n",
        "**2_ `.string`:** returns the string passed into the function.\n",
        "\n",
        "**3_ `.group()`:** returns the part of the string where there was a match."
      ],
      "metadata": {
        "id": "cmzxLANaEPuT"
      }
    },
    {
      "cell_type": "markdown",
      "source": [
        "## Special Sequences\n",
        "**1) `\\b`:** It indicates that a pattern is bounded by a non-word character. Non-word characters are all characters apart from numbers, letters, and underscore.\n",
        "\n",
        "**2) `\\d`:** Returns a match where the string contains digits (numbers from 0-9).\n",
        "\n",
        "**3) `\\D`:** Returns a match where the string DOES NOT contain digits.\n",
        "\n",
        "**4) `\\S`:** Returns a match where the string DOES NOT contain a white space character.\n",
        "\n",
        "**5) `\\w`:** Returns a match where the string contains any word characters (characters from a to Z, digits from 0-9, and the underscore _ character).\n",
        "\n",
        "**6) `\\W`:** Returns a match where the string DOES NOT contain any word characters."
      ],
      "metadata": {
        "id": "AwjS85RWCttj"
      }
    },
    {
      "cell_type": "markdown",
      "source": [
        "## Examples"
      ],
      "metadata": {
        "id": "sgHvLVRVExTC"
      }
    },
    {
      "cell_type": "markdown",
      "source": [
        "The pattern` ^The.*Spain$` means:\n",
        "\n",
        "`^The`: The string must start with \"*The*\".\n",
        "\n",
        "`.*`: Matches any characters (or none) in between `\"The\"` and `\"Spain\"`.\n",
        "\n",
        "`Spain$`: The string must end with \"*Spain*\"."
      ],
      "metadata": {
        "id": "1olMAPEgWBNZ"
      }
    },
    {
      "cell_type": "code",
      "execution_count": null,
      "metadata": {
        "colab": {
          "base_uri": "https://localhost:8080/"
        },
        "id": "KYiNJR77VUgO",
        "outputId": "2ac4061b-e57c-40fa-d539-7d791c14edfc"
      },
      "outputs": [
        {
          "output_type": "stream",
          "name": "stdout",
          "text": [
            "<re.Match object; span=(0, 17), match='The rain in Spain'>\n"
          ]
        }
      ],
      "source": [
        "import re\n",
        "\n",
        "txt = \"The rain in Spain\"\n",
        "x = re.search(\"^The.*Spain$\", txt)\n",
        "print(x)"
      ]
    },
    {
      "cell_type": "markdown",
      "source": [
        "\n",
        "\n",
        "------\n",
        "\n",
        "\n",
        "\n"
      ],
      "metadata": {
        "id": "WboEy03hmHyC"
      }
    },
    {
      "cell_type": "markdown",
      "source": [
        "**1) The regex pattern is: `([a-zA-Z]+) (\\d+)`.**\n",
        "\n",
        "*  `([a-zA-Z]+)`: Matches a sequence of one or more letters (either uppercase or lowercase).\n",
        "This part is in parentheses, so it creates Group 1.\n",
        "\n",
        "*   `(\\d+)`: Matches a sequence of one or more digits (numbers). This part is in parentheses, so it creates Group 2.\n",
        "\n",
        "-> Together, it looks for a sequence of letters followed by a space and then numbers.\n",
        "\n",
        "**2) The re.search function tries to find the first match of this pattern in the string \"I was born on June 24\".**\n",
        "\n",
        "`\"June\"` matches the first part --> `([a-zA-Z]+)`.\n",
        "\n",
        "`\"24\"` matches the second part --> `(\\d+)`.\n",
        "\n",
        "**3) If a match is found (match != None), the code prints details about it:**\n",
        "\n",
        "\n",
        "*   `match.start()` and `match.end()`:\n",
        "Give the start and end indices of the match in the string.\n",
        "*   `match.group(0)`:\n",
        "Returns the full match (`\"June 24\"`).\n",
        "\n",
        "*   `match.group(1)`:\n",
        "Returns the first group (`\"June\"`), which matches the sequence of letters.\n",
        "*   `match.group(2)`:\n",
        "Returns the second group (`\"24\"`), which matches the sequence of numbers.\n",
        "\n",
        "\n",
        "\n"
      ],
      "metadata": {
        "id": "Bu2t2WL6XLjg"
      }
    },
    {
      "cell_type": "code",
      "source": [
        "import re\n",
        "regex = r\"([a-zA-Z]+) (\\d+)\"\n",
        "\n",
        "match = re.search(regex, \"I was born on June 24\")\n",
        "\n",
        "if match != None:\n",
        "    print (\"Match at index %s, %s\" % (match.start(), match.end()))\n",
        "    print (\"Full match: %s\" % (match.group(0)))\n",
        "    print (\"Month: %s\" % (match.group(1)))\n",
        "    print (\"Day: %s\" % (match.group(2)))\n",
        "else:\n",
        "    print (\"The regex pattern does not match.\")"
      ],
      "metadata": {
        "colab": {
          "base_uri": "https://localhost:8080/"
        },
        "id": "iyDsC9odX__m",
        "outputId": "c19fb7d5-6f3a-4a7d-f4f7-105f5d06277d"
      },
      "execution_count": null,
      "outputs": [
        {
          "output_type": "stream",
          "name": "stdout",
          "text": [
            "Match at index 14, 21\n",
            "Full match: June 24\n",
            "Month: June\n",
            "Day: 24\n"
          ]
        }
      ]
    },
    {
      "cell_type": "markdown",
      "source": [
        "\n",
        "\n",
        "---\n",
        "\n"
      ],
      "metadata": {
        "id": "XObSvN1onRHx"
      }
    },
    {
      "cell_type": "markdown",
      "source": [
        "This code uses a regular expression (regex) to replace characters in a string.\n",
        "\n",
        "**1) Regex Pattern: `\\s`**\n",
        "\n",
        "This pattern matches any whitespace character, such as spaces, tabs, or newlines.\n",
        "\n",
        "**2)`re.sub() `function:**\n",
        "\n",
        "This function searches for the pattern in the string and replaces all matches with the specified value.\n",
        "In this case, every space (`\\s`) is replaced with the number `\"9\"`."
      ],
      "metadata": {
        "id": "e9rAaJQ4oKFG"
      }
    },
    {
      "cell_type": "code",
      "source": [
        "import re\n",
        "\n",
        "txt = \"The rain in Spain\"\n",
        "x = re.sub(\"\\s\", \"9\", txt)\n",
        "print(x)"
      ],
      "metadata": {
        "colab": {
          "base_uri": "https://localhost:8080/"
        },
        "id": "efUiVLQtoIbT",
        "outputId": "09deb266-9092-40da-cf8c-35945671fdf9"
      },
      "execution_count": null,
      "outputs": [
        {
          "output_type": "stream",
          "name": "stdout",
          "text": [
            "The9rain9in9Spain\n"
          ]
        }
      ]
    },
    {
      "cell_type": "markdown",
      "source": [
        "\n",
        "\n",
        "---\n",
        "\n"
      ],
      "metadata": {
        "id": "2SEbA1Xdok2H"
      }
    },
    {
      "cell_type": "markdown",
      "source": [
        "Every space (`\\s`) is replaced with the number `\"9\"`.\n",
        "\n",
        "The additional `2` parameter means that only two replacements will be made."
      ],
      "metadata": {
        "id": "fr4npnr1onGu"
      }
    },
    {
      "cell_type": "code",
      "source": [
        "import re\n",
        "\n",
        "txt = \"The rain in Spain\"\n",
        "x = re.sub(\"\\s\", \"9\", txt, 2)\n",
        "print(x)"
      ],
      "metadata": {
        "colab": {
          "base_uri": "https://localhost:8080/"
        },
        "id": "aYUsu_vyoiRb",
        "outputId": "94cc0eb6-b3ee-4f4e-8564-e1239ee4f76a"
      },
      "execution_count": null,
      "outputs": [
        {
          "output_type": "stream",
          "name": "stdout",
          "text": [
            "The9rain9in Spain\n"
          ]
        }
      ]
    },
    {
      "cell_type": "markdown",
      "source": [
        "\n",
        "\n",
        "---\n"
      ],
      "metadata": {
        "id": "nBOpjsBhpGof"
      }
    },
    {
      "cell_type": "markdown",
      "source": [
        "**1) Pattern: '`ub`'**\n",
        "\n",
        "**Replacement: '`~*`'**\n",
        "\n",
        "* This line replaces all instances of `ub` (case-insensitive) in the string `'Subject has Uber booked already'` with `~*`.\n",
        "\n",
        "* The use of **`flags=re.IGNORECASE`** ensures the pattern is case-insensitive.\n",
        "\n",
        "**2) This is similar to the first line**\n",
        "* but without the **`flags=re.IGNORECASE`**, so the substitution is **case-sensitive**.\n",
        "Only occurrences of ub in lowercase will be replaced.\n",
        "\n",
        "**3) Pattern: `'ub'`**\n",
        "\n",
        "**Replacement: `'~*'`**\n",
        "\n",
        "* This is like the first line, but the **`count=1`** argument **limits the replacement** to one occurrence of ub.\n",
        "\n",
        "**4) Pattern: `r'\\sAND\\s'`**:\n",
        "* (meaning it matches AND surrounded by spaces)\n",
        "\n",
        "**Replacement: `' & '`**\n",
        "* In this case, the word `\"And\" `(case-insensitive) in `'Baked Beans And Spam'` is replaced with `' & '`.**"
      ],
      "metadata": {
        "id": "Nn7mkjwmpOC-"
      }
    },
    {
      "cell_type": "code",
      "source": [
        "import re\n",
        "\n",
        "\n",
        "print(re.sub('ub', '~*', 'Subject has Uber booked already', flags=re.IGNORECASE))\n",
        "\n",
        "print(re.sub('ub', '~*', 'Subject has Uber booked already'))\n",
        "\n",
        "print(re.sub('ub', '~*', 'Subject has Uber booked already', count=1, flags=re.IGNORECASE))\n",
        "\n",
        "print(re.sub(r'\\sAND\\s', ' & ', 'Baked Beans And Spam', flags=re.IGNORECASE))"
      ],
      "metadata": {
        "colab": {
          "base_uri": "https://localhost:8080/"
        },
        "id": "hPzezQZ4oynP",
        "outputId": "8e198b81-2839-4aa2-fa92-ba1b8b7a8ef8"
      },
      "execution_count": null,
      "outputs": [
        {
          "output_type": "stream",
          "name": "stdout",
          "text": [
            "S~*ject has ~*er booked already\n",
            "S~*ject has Uber booked already\n",
            "S~*ject has Uber booked already\n",
            "Baked Beans & Spam\n"
          ]
        }
      ]
    },
    {
      "cell_type": "markdown",
      "source": [
        "\n",
        "\n",
        "---\n",
        "\n"
      ],
      "metadata": {
        "id": "06UeutTfrhi-"
      }
    },
    {
      "cell_type": "markdown",
      "source": [
        "The regular expression pattern: **`\\bS\\w+`**\n",
        "\n",
        "\n",
        "* `\\b`: It indicates that a pattern is bounded by a non-word character. Non-word characters are all characters apart from numbers, letters, and underscore\n",
        "* `S`: The capital letter \"S\".\n",
        "* `\\w+`: This matches one or more word characters (letters, digits, or underscores).\n",
        "\n",
        "-> So this pattern matches any word that starts with the letter \"S\" and is followed by any number of characters (letters, numbers, or underscores).\n",
        "\n",
        "* **`re.search(r\"\\bS\\w+\", txt)`:** The function `re.search` searches for the first word that starts with `\"S\"` and is followed by any characters in the string `\"The rain in Spain\"`. In this case, the matching word is `\"Spain\"`.\n",
        "\n",
        "* **`x.span()`:** This method returns the start and end positions of the matched pattern in the string. For `\"Spain\"`, the `span` result will be (12, 17), indicating that the match starts at index 12 and ends at index 17.\n",
        "\n",
        "* **`x.string:`** This method returns the string in which the search was performed. Here, it will return `\"The rain in Spain\"`."
      ],
      "metadata": {
        "id": "BR2fVORKrim1"
      }
    },
    {
      "cell_type": "code",
      "source": [
        "import re\n",
        "\n",
        "txt = \"The rain in Spain\"\n",
        "x = re.search(r\"\\bS\\w+\", txt)\n",
        "print(x.span())\n",
        "print(x.string)"
      ],
      "metadata": {
        "colab": {
          "base_uri": "https://localhost:8080/"
        },
        "id": "Z8hxUSKAqziy",
        "outputId": "595ed0d8-efa3-41e8-b3a1-36808770f5d9"
      },
      "execution_count": null,
      "outputs": [
        {
          "output_type": "stream",
          "name": "stdout",
          "text": [
            "(12, 17)\n",
            "The rain in Spain\n"
          ]
        }
      ]
    },
    {
      "cell_type": "markdown",
      "source": [
        "\n",
        "\n",
        "---\n",
        "\n"
      ],
      "metadata": {
        "id": "RCwqeDioMsBl"
      }
    },
    {
      "cell_type": "markdown",
      "source": [
        "This code searches for the string `\"Portugal\" `in the text `\"The rain in Spain\"`. Since `\"Portugal\"` is not in the text, the output will be `None`."
      ],
      "metadata": {
        "id": "kdDk0D6EMs3i"
      }
    },
    {
      "cell_type": "code",
      "source": [
        "import re\n",
        "\n",
        "txt = \"The rain in Spain\"\n",
        "x = re.search(\"Portugal\", txt)\n",
        "print(x)"
      ],
      "metadata": {
        "colab": {
          "base_uri": "https://localhost:8080/"
        },
        "id": "1_Y_vC09GdeG",
        "outputId": "ca7828a5-a270-4413-911f-171b445bf42b"
      },
      "execution_count": null,
      "outputs": [
        {
          "output_type": "stream",
          "name": "stdout",
          "text": [
            "None\n"
          ]
        }
      ]
    },
    {
      "cell_type": "markdown",
      "source": [
        "\n",
        "\n",
        "---\n",
        "\n"
      ],
      "metadata": {
        "id": "aM0Y2F5fODmM"
      }
    },
    {
      "cell_type": "markdown",
      "source": [
        " Write a regular expressions to search for the word “portal” in the given string\n",
        "and then prints the start and end indices of the matched word within the\n",
        "string."
      ],
      "metadata": {
        "id": "IH8LbVoAOFbm"
      }
    },
    {
      "cell_type": "code",
      "source": [
        "import re\n",
        "\n",
        "s = 'A computer science portal for geeks'\n",
        "\n",
        "match = re.search(r'portal', s)\n",
        "\n",
        "print('Start Index: ', match.start())\n",
        "print('End Index: ', match.end())"
      ],
      "metadata": {
        "colab": {
          "base_uri": "https://localhost:8080/"
        },
        "id": "Xe7LGRbeNDxy",
        "outputId": "e136061b-921f-4e30-c842-6122a27aa098"
      },
      "execution_count": null,
      "outputs": [
        {
          "output_type": "stream",
          "name": "stdout",
          "text": [
            "Start Index:  19\n",
            "End Index:  25\n"
          ]
        }
      ]
    },
    {
      "cell_type": "markdown",
      "source": [
        "\n",
        "\n",
        "---\n",
        "\n"
      ],
      "metadata": {
        "id": "IEpOXtEAO0FN"
      }
    },
    {
      "cell_type": "markdown",
      "source": [
        "**1) `r'.'`:** Matches any character except a newline. It finds the first character (`'g'`).\n",
        "\n",
        "**2) `r'\\.'`:** Matches the literal dot (`'.'`). It finds the first dot in the string."
      ],
      "metadata": {
        "id": "OBL-F8edO1HS"
      }
    },
    {
      "cell_type": "code",
      "source": [
        "import re\n",
        "\n",
        "s = 'geeks.forgeeks'\n",
        "\n",
        "# without using \\\n",
        "match = re.search(r'.', s)\n",
        "print(match)\n",
        "\n",
        "# using \\\n",
        "match = re.search(r'\\.', s)\n",
        "print(match)"
      ],
      "metadata": {
        "colab": {
          "base_uri": "https://localhost:8080/"
        },
        "id": "FSY6q_-9Oud5",
        "outputId": "b9780640-eb2a-4741-e5ff-64b5bb8faf1d"
      },
      "execution_count": null,
      "outputs": [
        {
          "output_type": "stream",
          "name": "stdout",
          "text": [
            "<re.Match object; span=(0, 1), match='g'>\n",
            "<re.Match object; span=(5, 6), match='.'>\n"
          ]
        }
      ]
    },
    {
      "cell_type": "markdown",
      "source": [
        "\n",
        "\n",
        "---\n",
        "\n"
      ],
      "metadata": {
        "id": "yKFalbOPVOjW"
      }
    },
    {
      "cell_type": "markdown",
      "source": [
        "This code finds all lowercase letters between a and m (inclusive) in the given string, stores them in a list, and prints the list."
      ],
      "metadata": {
        "id": "6FjSKQ23VSXa"
      }
    },
    {
      "cell_type": "code",
      "source": [
        "import re\n",
        "\n",
        "string = \"The quick brown fox jumps over the lazy dog\"\n",
        "pattern = \"[a-m]\"\n",
        "result = re.findall(pattern, string)\n",
        "\n",
        "print(result)"
      ],
      "metadata": {
        "colab": {
          "base_uri": "https://localhost:8080/"
        },
        "id": "aRnKomHHVPKy",
        "outputId": "a52f8546-1877-4e0e-f6d2-abe68eeb4c40"
      },
      "execution_count": null,
      "outputs": [
        {
          "output_type": "stream",
          "name": "stdout",
          "text": [
            "['h', 'e', 'i', 'c', 'k', 'b', 'f', 'j', 'm', 'e', 'h', 'e', 'l', 'a', 'd', 'g']\n"
          ]
        }
      ]
    },
    {
      "cell_type": "markdown",
      "source": [
        "\n",
        "\n",
        "---\n",
        "\n"
      ],
      "metadata": {
        "id": "lxNq8j-nTEnt"
      }
    },
    {
      "cell_type": "markdown",
      "source": [
        "\n",
        "This code uses the regex `^The` to check if each string in the given list starts with the word `\"The\"`.\n",
        "\n",
        "If it does, it prints matched; otherwise, it prints that it does not match."
      ],
      "metadata": {
        "id": "DhgGclPiTGOi"
      }
    },
    {
      "cell_type": "code",
      "source": [
        "import re\n",
        "\n",
        "regex = r'^The'\n",
        "strings = ['The quick brown fox', 'The lazy dog', 'A quick brown fox']\n",
        "\n",
        "for string in strings:\n",
        "    if re.search(regex, string):\n",
        "        print(f\"Matched: {string}\")\n",
        "    else:\n",
        "        print(f\"Not matched: {string}\")"
      ],
      "metadata": {
        "colab": {
          "base_uri": "https://localhost:8080/"
        },
        "id": "Ysb_l_tvTNUA",
        "outputId": "4a38a0bd-2215-4131-d7c5-6f1f75c2118a"
      },
      "execution_count": null,
      "outputs": [
        {
          "output_type": "stream",
          "name": "stdout",
          "text": [
            "Matched: The quick brown fox\n",
            "Matched: The lazy dog\n",
            "Not matched: A quick brown fox\n"
          ]
        }
      ]
    },
    {
      "cell_type": "markdown",
      "source": [
        "\n",
        "\n",
        "---\n",
        "\n"
      ],
      "metadata": {
        "id": "OXF3KeiBUAdO"
      }
    },
    {
      "cell_type": "markdown",
      "source": [
        "\n",
        "**pattern =` r'World!$'`:** The regex pattern looks for `\"World!\"` specifically  **at the end of the string**. The `$` indicates the end of the string.\n",
        "\n",
        "**`re.search(pattern, string):`** Checks if the pattern exists in the input string."
      ],
      "metadata": {
        "id": "-l6C7SKqUCPM"
      }
    },
    {
      "cell_type": "code",
      "source": [
        "import re\n",
        "\n",
        "string = \"Hello World!\"\n",
        "pattern = r'World!$'\n",
        "\n",
        "match = re.search(pattern, string)\n",
        "if match:\n",
        "  print(\"Match found!\")\n",
        "else:\n",
        "  print(\"Match not found.\")"
      ],
      "metadata": {
        "colab": {
          "base_uri": "https://localhost:8080/"
        },
        "id": "Kr0-QKKTUCoz",
        "outputId": "52bce2f1-eedb-4975-f2a1-921228a2a8f1"
      },
      "execution_count": null,
      "outputs": [
        {
          "output_type": "stream",
          "name": "stdout",
          "text": [
            "Match found!\n"
          ]
        }
      ]
    },
    {
      "cell_type": "markdown",
      "source": [
        "\n",
        "\n",
        "---\n",
        "\n"
      ],
      "metadata": {
        "id": "gI704GOQa5jm"
      }
    },
    {
      "cell_type": "markdown",
      "source": [
        "This code checks if the pattern `\"brown.fox\"` **(where brown is followed by any single character and then fox)** exists in the given string."
      ],
      "metadata": {
        "id": "49xaMswVa6Wg"
      }
    },
    {
      "cell_type": "code",
      "source": [
        "import re\n",
        "\n",
        "string = \"The quick brown fox jumps over the lazy dog.\"\n",
        "pattern = r'brown.fox'\n",
        "\n",
        "match = re.search(pattern, string)\n",
        "if match:\n",
        "  print(\"Match found! \\n\", match.span())\n",
        "else:\n",
        "  print(\"Match not found.\")"
      ],
      "metadata": {
        "colab": {
          "base_uri": "https://localhost:8080/"
        },
        "id": "XpMYRylKYv5s",
        "outputId": "2b0c0c13-4012-4914-b7f6-0185e1ab4537"
      },
      "execution_count": null,
      "outputs": [
        {
          "output_type": "stream",
          "name": "stdout",
          "text": [
            "Match found! \n",
            " (10, 19)\n"
          ]
        }
      ]
    },
    {
      "cell_type": "markdown",
      "source": [
        "\n",
        "\n",
        "---\n",
        "\n"
      ],
      "metadata": {
        "id": "7hitzg9rc475"
      }
    },
    {
      "cell_type": "markdown",
      "source": [
        "This code splits the given string into a list of words based on spaces.\n",
        "\n",
        "**`re.split(\"\\s\", txt)`:**\n",
        "\n",
        "The pattern `\\s` matches any whitespace character (space, tab, etc.), splitting the string wherever it finds one.\n",
        "\n",
        "The result is a list of words obtained from the split.\n",
        "\n",
        "\n"
      ],
      "metadata": {
        "id": "rkfGB8ALc55_"
      }
    },
    {
      "cell_type": "code",
      "source": [
        "import re\n",
        "\n",
        "txt = \"The rain in Spain\"\n",
        "x = re.split(\"\\s\", txt)\n",
        "print(x)"
      ],
      "metadata": {
        "colab": {
          "base_uri": "https://localhost:8080/"
        },
        "id": "H5Oq4HIPbx06",
        "outputId": "08712866-2add-4c4a-e747-5ea858dd543c"
      },
      "execution_count": null,
      "outputs": [
        {
          "output_type": "stream",
          "name": "stdout",
          "text": [
            "['The', 'rain', 'in', 'Spain']\n"
          ]
        }
      ]
    },
    {
      "cell_type": "markdown",
      "source": [
        "\n",
        "\n",
        "---\n",
        "\n"
      ],
      "metadata": {
        "id": "m-xER_fMeNQf"
      }
    },
    {
      "cell_type": "markdown",
      "source": [],
      "metadata": {
        "id": "VkomvTToeOKE"
      }
    },
    {
      "cell_type": "code",
      "source": [
        "import re\n",
        "\n",
        "txt = \"The rain in Spain\"\n",
        "x = re.split(\"\\s\", txt, 1)\n",
        "print(x)"
      ],
      "metadata": {
        "colab": {
          "base_uri": "https://localhost:8080/"
        },
        "id": "HJbsUIeKeLY_",
        "outputId": "8ac0385a-a1e5-461a-c041-893b3fb6ba0b"
      },
      "execution_count": null,
      "outputs": [
        {
          "output_type": "stream",
          "name": "stdout",
          "text": [
            "['The', 'rain in Spain']\n"
          ]
        }
      ]
    },
    {
      "cell_type": "markdown",
      "source": [
        "\n",
        "\n",
        "---\n",
        "\n"
      ],
      "metadata": {
        "id": "bITVwslcftiH"
      }
    },
    {
      "cell_type": "markdown",
      "source": [
        "\n",
        "**1) `split('\\W+', 'Words, words , Words')`:**\n",
        "\n",
        "  The pattern `\\W+` matches all non-word characters (anything that is not a letter, digit, or underscore), such as commas and spaces.\n",
        "\n",
        "  So, it removes spaces and punctuation marks.\n",
        "\n",
        "**2) `split('\\W+', 'Words words Words')`:**\n",
        "  \n",
        "  Similar to the first line, but only spaces between the words.\n",
        "\n",
        "**3) `split('\\W+', 'On 12th Jan 2016, at 11:02 AM')`:**\n",
        "\n",
        "  In this case, a longer sentence is used. All non-word characters such as spaces, commas, and numbers will be split.\n",
        "\n",
        "**4) `split('\\d+', 'On 12th Jan 2016, at 11:02 AM')`:**\n",
        "  \n",
        "  The pattern `\\d+` is used to match and split numbers.\n",
        "\n",
        "\n",
        "\n",
        "\n",
        "\n"
      ],
      "metadata": {
        "id": "WNRWlMcAfusO"
      }
    },
    {
      "cell_type": "code",
      "source": [
        "from re import split\n",
        "\n",
        "print(split('\\W+', 'Words, words , Words'))\n",
        "print(split('\\W+', 'Words words  Words'))\n",
        "print(split('\\W+', 'On 12th Jan 2016, at 11:02 AM'))\n",
        "print(split('\\d+', 'On 12th Jan 2016, at 11:02 AM'))"
      ],
      "metadata": {
        "colab": {
          "base_uri": "https://localhost:8080/"
        },
        "id": "lvPu4OWlgdJ_",
        "outputId": "3ea890b5-4022-4f4e-8436-fda20e95ae1d"
      },
      "execution_count": null,
      "outputs": [
        {
          "output_type": "stream",
          "name": "stdout",
          "text": [
            "['Words', 'words', 'Words']\n",
            "['Words', 'words', 'Words']\n",
            "['On', '12th', 'Jan', '2016', 'at', '11', '02', 'AM']\n",
            "['On ', 'th Jan ', ', at ', ':', ' AM']\n"
          ]
        }
      ]
    },
    {
      "cell_type": "markdown",
      "source": [
        "\n",
        "\n",
        "---\n",
        "\n"
      ],
      "metadata": {
        "id": "bNjEdDislm8c"
      }
    },
    {
      "cell_type": "markdown",
      "source": [
        "**1) `re.split('\\d', 'On 12th Jan 2016, at 11:02 AM', 1)`:**\n",
        "\n",
        "* The pattern `\\d` matches all digits (numbers).\n",
        "\n",
        "* This splits the string only at the first occurrence of a digit.\n",
        "* (The first digit (1) is identified and the string is split there.)\n",
        "\n",
        "**3) `re.split('[a-f]+', 'Aey, Boy oh boy, come here', flags=re.IGNORECASE)`:**\n",
        "\n",
        "* The pattern `[a-f]+` matches any letter from 'a' to 'f' (case insensitive due to the IGNORECASE flag).\n",
        "\n",
        "* Here, the letters from 'a' to 'f' (like 'A', 'e', 'B' etc.) are used as separators.\n",
        "\n",
        "* (All characters 'a' through 'f' are recognized and split the string accordingly.)\n",
        "\n",
        "**3) `re.split('[a-f]+', 'Aey, Boy oh boy, come here'):`**\n",
        "\n",
        "* Similar to the previous line, but without the IGNORECASE flag.\n",
        "The pattern `[a-f]+` matches only lowercase letters from 'a' to 'f'.\n",
        "* (Only lowercase 'a', 'b', 'c', 'd', 'e', 'f' characters are used to split the string.)"
      ],
      "metadata": {
        "id": "vd4VU5t9lnez"
      }
    },
    {
      "cell_type": "code",
      "source": [
        "import re\n",
        "\n",
        "print(re.split('\\d', 'On 12th Jan 2016, at 11:02 AM', 1))\n",
        "print(re.split('[a-f]+', 'Aey, Boy oh boy, come here', flags=re.IGNORECASE))\n",
        "print(re.split('[a-f]+', 'Aey, Boy oh boy, come here'))"
      ],
      "metadata": {
        "colab": {
          "base_uri": "https://localhost:8080/"
        },
        "id": "_-GauI5uhDEv",
        "outputId": "b5cb4419-e7f1-4533-9cd7-6ee3d057d86b"
      },
      "execution_count": null,
      "outputs": [
        {
          "output_type": "stream",
          "name": "stdout",
          "text": [
            "['On ', '2th Jan 2016, at 11:02 AM']\n",
            "['', 'y, ', 'oy oh ', 'oy, ', 'om', ' h', 'r', '']\n",
            "['A', 'y, Boy oh ', 'oy, ', 'om', ' h', 'r', '']\n"
          ]
        }
      ]
    },
    {
      "cell_type": "markdown",
      "source": [
        "\n",
        "\n",
        "---\n",
        "\n"
      ],
      "metadata": {
        "id": "UGlAw9vFuldR"
      }
    },
    {
      "cell_type": "markdown",
      "source": [
        "This code searches for the substring `\"ai\"` in the string `\"The rain in Spain\"` using the `re.findall()` function.\n",
        "\n",
        "It returns a list of all occurrences of `\"ai\"`. In this case, `\"ai\"` appears twice:\n",
        "\n",
        "once in the word `\"rain\"` and once in the word `\"Spain\"`. So the output will be `['ai', 'ai']`."
      ],
      "metadata": {
        "id": "xMdEpnLCumLj"
      }
    },
    {
      "cell_type": "code",
      "source": [
        "import re\n",
        "\n",
        "txt = \"The rain in Spain\"\n",
        "x = re.findall(\"ai\", txt)\n",
        "print(x)"
      ],
      "metadata": {
        "colab": {
          "base_uri": "https://localhost:8080/"
        },
        "id": "D2AeDY_NmPRP",
        "outputId": "03c5d4b0-c67a-4e00-9f8b-0b9b09ac7352"
      },
      "execution_count": null,
      "outputs": [
        {
          "output_type": "stream",
          "name": "stdout",
          "text": [
            "['ai', 'ai']\n"
          ]
        }
      ]
    },
    {
      "cell_type": "markdown",
      "source": [
        "\n",
        "\n",
        "---\n",
        "\n"
      ],
      "metadata": {
        "id": "VgkbAcC5w6vH"
      }
    },
    {
      "cell_type": "markdown",
      "source": [
        "This code uses `re.findall()` to search for the substring `\"Portugal\"` in the string `\"The rain in Spain\"`.\n",
        "\n",
        "Since `\"Portugal\"` is not found in the string, `x` will be an empty list (`[]`). The `if` statement then checks if x is not empty, and since it is empty, it prints `\"No match\"`."
      ],
      "metadata": {
        "id": "wbKvwLxZw9mG"
      }
    },
    {
      "cell_type": "code",
      "source": [
        "import re\n",
        "\n",
        "txt = \"The rain in Spain\"\n",
        "x = re.findall(\"Portugal\", txt)\n",
        "print(x)\n",
        "\n",
        "if (x):\n",
        "  print(\"Yes, there is at least one match!\")\n",
        "else:\n",
        "  print(\"No match\")"
      ],
      "metadata": {
        "colab": {
          "base_uri": "https://localhost:8080/"
        },
        "id": "HrgvhUEpvBvJ",
        "outputId": "66c4dbb0-2df0-4087-f953-a7f0a953c07e"
      },
      "execution_count": null,
      "outputs": [
        {
          "output_type": "stream",
          "name": "stdout",
          "text": [
            "[]\n",
            "No match\n"
          ]
        }
      ]
    },
    {
      "cell_type": "markdown",
      "source": [
        "\n",
        "\n",
        "---\n",
        "\n"
      ],
      "metadata": {
        "id": "W3qvOFFNzKIt"
      }
    },
    {
      "cell_type": "markdown",
      "source": [
        "This code uses `re.findall()` to find all occurrences of one or more digits (`\\d+`) in the given string.\n",
        "\n",
        "The pattern `\\d+` matches sequences of digits. The `findall()` method returns a list of all matching substrings, which are the numbers in the string.\n",
        "\n",
        "In this case, it will return `['123456789', '987654321']`, as these are the two sequences of digits in the string."
      ],
      "metadata": {
        "id": "s9CLd-oVzKzH"
      }
    },
    {
      "cell_type": "code",
      "source": [
        "import re\n",
        "string = \"\"\"Hello my number is 123456789 and my friend's number is 987654321\"\"\"\n",
        "regex = r'\\d+'\n",
        "\n",
        "match = re.findall(regex, string)\n",
        "print(match)"
      ],
      "metadata": {
        "colab": {
          "base_uri": "https://localhost:8080/"
        },
        "id": "lFJdpTQhxbQA",
        "outputId": "90a508a7-dedd-47ed-b49e-89a10af3c4db"
      },
      "execution_count": null,
      "outputs": [
        {
          "output_type": "stream",
          "name": "stdout",
          "text": [
            "['123456789', '987654321']\n"
          ]
        }
      ]
    },
    {
      "cell_type": "markdown",
      "source": [
        "\n",
        "\n",
        "---\n",
        "\n"
      ],
      "metadata": {
        "id": "y_f_cdkI0JFk"
      }
    },
    {
      "cell_type": "markdown",
      "source": [
        "**`re.split('\\W+', txt)`** splits the input string txt at one or more non-word characters (anything other than letters, digits, and underscores).\n",
        "\n",
        "* In the string `\"This is a#2## test\"`, it will break the string wherever it encounters spaces, #, and other non-alphanumeric characters.\n",
        "\n",
        "**`re.findall('\\w+', txt)`** finds all sequences of word characters (letters, digits, or underscores) in the string.\n",
        "* The pattern `\\w+` matches continuous letters or digits."
      ],
      "metadata": {
        "id": "Mm_AcB0n0J48"
      }
    },
    {
      "cell_type": "code",
      "source": [
        "import re\n",
        "\n",
        "txt = \"This   is a#2## test\"\n",
        "\n",
        "print(re.split('\\W+', txt))\n",
        "\n",
        "print(re.findall('\\w+', txt))"
      ],
      "metadata": {
        "colab": {
          "base_uri": "https://localhost:8080/"
        },
        "id": "xeBGJxqOzhMp",
        "outputId": "0fce9c6a-be32-49d5-da42-4c3e59ef2a58"
      },
      "execution_count": null,
      "outputs": [
        {
          "output_type": "stream",
          "name": "stdout",
          "text": [
            "['This', 'is', 'a', '2', 'test']\n",
            "['This', 'is', 'a', '2', 'test']\n"
          ]
        }
      ]
    },
    {
      "cell_type": "markdown",
      "source": [
        "\n",
        "\n",
        "---\n",
        "\n"
      ],
      "metadata": {
        "id": "qSrUqGdx11MI"
      }
    },
    {
      "cell_type": "markdown",
      "source": [
        "Like above code:"
      ],
      "metadata": {
        "id": "0yvJODtI12oX"
      }
    },
    {
      "cell_type": "code",
      "source": [
        "import re\n",
        "\n",
        "txt = \"این یک تست است\"\n",
        "\n",
        "print(re.split('\\W+', txt))\n",
        "\n",
        "print(re.findall('\\w+', txt))"
      ],
      "metadata": {
        "colab": {
          "base_uri": "https://localhost:8080/"
        },
        "id": "YP8nipOz10Eu",
        "outputId": "905bd110-0560-4243-b52b-b77ca5bcf833"
      },
      "execution_count": null,
      "outputs": [
        {
          "output_type": "stream",
          "name": "stdout",
          "text": [
            "['این', 'یک', 'تست', 'است']\n",
            "['این', 'یک', 'تست', 'است']\n"
          ]
        }
      ]
    },
    {
      "cell_type": "markdown",
      "source": [
        "\n",
        "\n",
        "---\n",
        "\n"
      ],
      "metadata": {
        "id": "u2tp-ju15My8"
      }
    },
    {
      "cell_type": "markdown",
      "source": [
        "* **`re.findall('[A-Z]+-\\d+', txt)`** searches for all occurrences of patterns in the input string txt where there is a sequence of uppercase letters followed by a hyphen (-) and then one or more digits.\n",
        "* In the string `\"this is a standard ISO-98\"`, it matches the part `\"ISO-98\"`, because it fits the pattern: uppercase letters, hyphen, and digits. The output will be a list: ['ISO-98'].\n",
        "\n",
        "* **`re.sub('[A-Z]+-\\d+', 'ISO-2000', txt)`** replaces all occurrences of the pattern described above (uppercase letters followed by a hyphen and digits) with the string 'ISO-2000'.\n",
        "* In the string `\"this is a standard ISO-98\"`, the `\"ISO-98\"` part will be replaced with `\"ISO-2000\"`."
      ],
      "metadata": {
        "id": "PRiGIPtq5Nxo"
      }
    },
    {
      "cell_type": "code",
      "source": [
        "import re\n",
        "\n",
        "txt = \"this is a standard ISO-98\"\n",
        "\n",
        "print(re.findall('[A-Z]+-\\d+', txt))\n",
        "\n",
        "print(re.sub('[A-Z]+-\\d+', 'ISO-2000', txt))"
      ],
      "metadata": {
        "colab": {
          "base_uri": "https://localhost:8080/"
        },
        "id": "2ukG-mEu4SOt",
        "outputId": "d0fef822-6da4-401b-9dcb-190296f81a26"
      },
      "execution_count": null,
      "outputs": [
        {
          "output_type": "stream",
          "name": "stdout",
          "text": [
            "['ISO-98']\n",
            "this is a standard ISO-2000\n"
          ]
        }
      ]
    },
    {
      "cell_type": "markdown",
      "source": [
        "\n",
        "\n",
        "---\n",
        "\n"
      ],
      "metadata": {
        "id": "deFwdTaE7lhQ"
      }
    },
    {
      "cell_type": "markdown",
      "source": [
        "![Screenshot 2024-12-11 221006.png](data:image/png;base64,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)"
      ],
      "metadata": {
        "id": "ZNDFPLR37mw5"
      }
    }
  ]
}
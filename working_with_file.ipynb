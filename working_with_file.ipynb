{
  "nbformat": 4,
  "nbformat_minor": 0,
  "metadata": {
    "colab": {
      "provenance": [],
      "authorship_tag": "ABX9TyOIcqtY8mTDdh3q+pU/uVDo",
      "include_colab_link": true
    },
    "kernelspec": {
      "name": "python3",
      "display_name": "Python 3"
    },
    "language_info": {
      "name": "python"
    }
  },
  "cells": [
    {
      "cell_type": "markdown",
      "metadata": {
        "id": "view-in-github",
        "colab_type": "text"
      },
      "source": [
        "<a href=\"https://colab.research.google.com/github/baharkarami/Text-Mining-Class/blob/main/working_with_file.ipynb\" target=\"_parent\"><img src=\"https://colab.research.google.com/assets/colab-badge.svg\" alt=\"Open In Colab\"/></a>"
      ]
    },
    {
      "cell_type": "markdown",
      "source": [
        "# Working with Files"
      ],
      "metadata": {
        "id": "FxMKeIzhLfcB"
      }
    },
    {
      "cell_type": "markdown",
      "source": [
        "Both lines open the file in read-text mode, and there is no functional difference between them.\n",
        "\n",
        "**`\"rt\"`** stands for **\"read, text\"**, meaning the file is opened in text mode for reading:"
      ],
      "metadata": {
        "id": "QSm3lDzKXOvm"
      }
    },
    {
      "cell_type": "code",
      "source": [
        "f = open(\"demofile.txt\")"
      ],
      "metadata": {
        "id": "jz5a-BZaU79s"
      },
      "execution_count": 1,
      "outputs": []
    },
    {
      "cell_type": "code",
      "source": [
        "f = open(\"demofile.txt\", \"rt\")"
      ],
      "metadata": {
        "id": "LB7si19eV_5z"
      },
      "execution_count": 2,
      "outputs": []
    },
    {
      "cell_type": "markdown",
      "source": [
        "\n",
        "\n",
        "---\n",
        "\n"
      ],
      "metadata": {
        "id": "D8xy-h1O2vAo"
      }
    },
    {
      "cell_type": "markdown",
      "source": [
        "This code opens the file `demofile.txt` in read mode (`\"r\"`) and uses the **`read()`** method to read and display its content:"
      ],
      "metadata": {
        "id": "Ye86g_Bh2zw_"
      }
    },
    {
      "cell_type": "code",
      "source": [
        "f = open(\"demofile.txt\", \"r\")\n",
        "print(f.read())"
      ],
      "metadata": {
        "colab": {
          "base_uri": "https://localhost:8080/"
        },
        "id": "IMISmUTLWq3t",
        "outputId": "772b55a0-b3d0-4809-f0ae-6a539493b553"
      },
      "execution_count": 3,
      "outputs": [
        {
          "output_type": "stream",
          "name": "stdout",
          "text": [
            "Hello! Welcome to demofile.txt\n",
            "This file is for testing purposes.\n",
            "Good Luck!\n"
          ]
        }
      ]
    },
    {
      "cell_type": "markdown",
      "source": [
        "\n",
        "\n",
        "---\n",
        "\n"
      ],
      "metadata": {
        "id": "9KLo1c313uep"
      }
    },
    {
      "cell_type": "markdown",
      "source": [
        "This code opens the file `demofile.txt` in read mode (`\"r\"`) and reads only the first 5 characters of the file using `read(5)`, then displays them:"
      ],
      "metadata": {
        "id": "KJNbvfyv3vOX"
      }
    },
    {
      "cell_type": "code",
      "source": [
        "f = open(\"demofile.txt\", \"r\")\n",
        "print(f.read(5))"
      ],
      "metadata": {
        "colab": {
          "base_uri": "https://localhost:8080/"
        },
        "id": "hpqHdl_8WxXy",
        "outputId": "da573d2e-7fdb-4715-bffb-fc5f38de0c74"
      },
      "execution_count": 4,
      "outputs": [
        {
          "output_type": "stream",
          "name": "stdout",
          "text": [
            "Hello\n"
          ]
        }
      ]
    },
    {
      "cell_type": "markdown",
      "source": [
        "\n",
        "\n",
        "---\n",
        "\n"
      ],
      "metadata": {
        "id": "mkHSJOPj5bgv"
      }
    },
    {
      "cell_type": "markdown",
      "source": [
        "This code opens the file demofile.txt in append mode (`\"a\"`), adds the text `\"Now the file has more content!\"` to the file, and then closes the file.\n",
        "\n",
        "The **`f.close()`** statement closes the opened file. It is necessary to release system resources and ensure that changes to the file are saved.\n",
        "\n",
        "After that, the file is reopened in read mode (`\"r\"`) and its content is displayed:"
      ],
      "metadata": {
        "id": "bFYRbT7M5cS4"
      }
    },
    {
      "cell_type": "code",
      "source": [
        "f = open(\"demofile.txt\", \"a\")\n",
        "f.write(\"Now the file has more content!\")\n",
        "f.close()\n",
        "\n",
        "#open and read the file after the appending:\n",
        "f = open(\"demofile.txt\", \"r\")\n",
        "print(f.read())"
      ],
      "metadata": {
        "colab": {
          "base_uri": "https://localhost:8080/"
        },
        "id": "QEqJw5HwW64v",
        "outputId": "ea9f9042-c2c5-485a-d0a3-823e5d7ba571"
      },
      "execution_count": 5,
      "outputs": [
        {
          "output_type": "stream",
          "name": "stdout",
          "text": [
            "Hello! Welcome to demofile.txt\n",
            "This file is for testing purposes.\n",
            "Good Luck!Now the file has more content!\n"
          ]
        }
      ]
    },
    {
      "cell_type": "markdown",
      "source": [
        "\n",
        "\n",
        "---\n",
        "\n"
      ],
      "metadata": {
        "id": "oFh0Z5hy9rOn"
      }
    },
    {
      "cell_type": "markdown",
      "source": [
        "This code opens the file `demofile.txt` in write mode (`\"w\"`), deletes its previous content, writes the text `\"Woops! I have deleted the content!\"`, and then closes the file.\n",
        "After that, the file is reopened in read mode (`\"r\"`) and its new content is displayed:"
      ],
      "metadata": {
        "id": "Gv5QX6ic9rw4"
      }
    },
    {
      "cell_type": "code",
      "source": [
        "f = open(\"demofile.txt\", \"w\")\n",
        "f.write(\"Woops! I have deleted the content!\")\n",
        "f.close()\n",
        "\n",
        "#open and read the file after the appending:\n",
        "f = open(\"demofile.txt\", \"r\")\n",
        "print(f.read())"
      ],
      "metadata": {
        "colab": {
          "base_uri": "https://localhost:8080/"
        },
        "id": "nwbztNH3XaCV",
        "outputId": "01bbcb36-9678-43b4-a803-e533f1a95efa"
      },
      "execution_count": 6,
      "outputs": [
        {
          "output_type": "stream",
          "name": "stdout",
          "text": [
            "Woops! I have deleted the content!\n"
          ]
        }
      ]
    },
    {
      "cell_type": "markdown",
      "source": [
        "\n",
        "\n",
        "---\n",
        "\n"
      ],
      "metadata": {
        "id": "9fmfMmhsDylB"
      }
    },
    {
      "cell_type": "markdown",
      "source": [
        "This code uses the **`os`** module to delete the file `demofile.txt`. After executing this command, the file is removed."
      ],
      "metadata": {
        "id": "md2Jc_DMDzWY"
      }
    },
    {
      "cell_type": "code",
      "source": [
        "import os\n",
        "os.remove(\"demofile.txt\")"
      ],
      "metadata": {
        "id": "Tct6TQrQalKx"
      },
      "execution_count": 7,
      "outputs": []
    },
    {
      "cell_type": "markdown",
      "source": [
        "\n",
        "\n",
        "---\n",
        "\n"
      ],
      "metadata": {
        "id": "9H6BHlleFor5"
      }
    },
    {
      "cell_type": "markdown",
      "source": [
        "This code first checks if the file `demofile.txt` exists. If the file exists, it deletes it. Otherwise, it prints the message `\"The file does not exist\"`."
      ],
      "metadata": {
        "id": "V1UqS5g6FpMw"
      }
    },
    {
      "cell_type": "code",
      "source": [
        "import os\n",
        "if os.path.exists(\"demofile.txt\"):\n",
        "  os.remove(\"demofile.txt\")\n",
        "else:\n",
        "  print(\"The file does not exist\")"
      ],
      "metadata": {
        "colab": {
          "base_uri": "https://localhost:8080/"
        },
        "id": "rzumKXEHbe1h",
        "outputId": "bbc44b70-bcd9-4d0b-ab36-f289955dc4b0"
      },
      "execution_count": 8,
      "outputs": [
        {
          "output_type": "stream",
          "name": "stdout",
          "text": [
            "The file does not exist\n"
          ]
        }
      ]
    },
    {
      "cell_type": "markdown",
      "source": [
        "\n",
        "\n",
        "---\n",
        "\n"
      ],
      "metadata": {
        "id": "Sr2EmMTyHlP5"
      }
    },
    {
      "cell_type": "markdown",
      "source": [
        "\n",
        "This code opens the file `sample-file.txt` in append mode (`'a'`) with `utf-8` encoding, adds the text `\"\\nسلام\"`, and then closes the file.\n",
        "\n",
        "`encoding='utf-8'` specifies that the file should be opened or saved using the UTF-8 encoding. This encoding supports most languages, including special characters like Persian letters.\n",
        "\n",
        "Then, the file is reopened in read mode (`'r'`), its content is stored in the variable `txt`, and then printed."
      ],
      "metadata": {
        "id": "NDihx8l7HmA9"
      }
    },
    {
      "cell_type": "code",
      "source": [
        "f = open(\"sample-file.txt\", mode='a', encoding='utf-8')\n",
        "f.write(\"\\nسلام\")\n",
        "f.close()\n",
        "\n",
        "f = open(\"sample-file.txt\", mode='r', encoding='utf-8')\n",
        "txt = f.read()\n",
        "print(txt)"
      ],
      "metadata": {
        "colab": {
          "base_uri": "https://localhost:8080/"
        },
        "id": "inZqLlJ8bjJo",
        "outputId": "5eac3ac9-d9f1-4dd7-e46d-43f9073a5bae"
      },
      "execution_count": 9,
      "outputs": [
        {
          "output_type": "stream",
          "name": "stdout",
          "text": [
            "\n",
            "سلام\n",
            "سلام\n",
            "سلام\n",
            "سلام\n",
            "سلام\n",
            "سلام\n"
          ]
        }
      ]
    },
    {
      "cell_type": "markdown",
      "source": [
        "\n",
        "\n",
        "---\n",
        "\n"
      ],
      "metadata": {
        "id": "w7UTzhn6K1x5"
      }
    },
    {
      "cell_type": "markdown",
      "source": [
        "1. Reading the entire file content: In the first section, the file sample-file.txt is opened in read mode (`'r'`) with utf-8 encoding, and all lines of the file are read and printed using **`readlines()`**.\n",
        "\n",
        "2. Reading the file line by line - Method 1: In the second section, the file is reopened and lines are read one by one using a while loop and the `:=` operator (walrus operator), and printed.\n",
        "\n",
        "\n",
        " - `line := f.readline()` assigns the read value to the variable line.\n",
        "\n",
        " - while`(line := f.readline())` checks if the line is not empty (if true, the loop continues).\n",
        "\n",
        "3. Reading the file line by line - Method 2: In the third section, the file is reopened and read line by line using a `for` loop, which automatically iterates over each line in the file and prints it."
      ],
      "metadata": {
        "id": "OTJobaRpK2-7"
      }
    },
    {
      "cell_type": "code",
      "source": [
        "print(\"read total file:\")\n",
        "f = open(\"sample-file.txt\", mode='r', encoding='utf-8')\n",
        "print(f.readlines())\n",
        "\n",
        "print(\"read file line by line  -1:\")\n",
        "f = open(\"sample-file.txt\", mode='r', encoding='utf-8')\n",
        "while(line := f.readline()):\n",
        "    print(line)\n",
        "\n",
        "print(\"read file line by line  -2:\")\n",
        "f = open(\"sample-file.txt\", mode='r', encoding='utf-8')\n",
        "for line in f:\n",
        "    print(line)"
      ],
      "metadata": {
        "colab": {
          "base_uri": "https://localhost:8080/"
        },
        "id": "wDXGAHN7c6Qr",
        "outputId": "898ed9e8-5a3c-4e7d-c554-3aa56a3ac2d0"
      },
      "execution_count": 10,
      "outputs": [
        {
          "output_type": "stream",
          "name": "stdout",
          "text": [
            "read total file:\n",
            "['\\n', 'سلام\\n', 'سلام\\n', 'سلام\\n', 'سلام\\n', 'سلام\\n', 'سلام']\n",
            "read file line by line  -1:\n",
            "\n",
            "\n",
            "سلام\n",
            "\n",
            "سلام\n",
            "\n",
            "سلام\n",
            "\n",
            "سلام\n",
            "\n",
            "سلام\n",
            "\n",
            "سلام\n",
            "read file line by line  -2:\n",
            "\n",
            "\n",
            "سلام\n",
            "\n",
            "سلام\n",
            "\n",
            "سلام\n",
            "\n",
            "سلام\n",
            "\n",
            "سلام\n",
            "\n",
            "سلام\n"
          ]
        }
      ]
    },
    {
      "cell_type": "markdown",
      "source": [
        "\n",
        "\n",
        "---\n",
        "\n"
      ],
      "metadata": {
        "id": "bZ7cALHdUdt8"
      }
    },
    {
      "cell_type": "markdown",
      "source": [
        "The sample.json file is opened, loaded into a dictionary using `json.load()`, and printed.\n",
        "\n",
        "Keys of the dictionary are printed using a loop.\n",
        "\n",
        "In the second loop, keys and their values are printed using two formatting methods (`%s` and `f-string`)."
      ],
      "metadata": {
        "id": "sD3_md_fUeZC"
      }
    },
    {
      "cell_type": "code",
      "source": [
        "import json\n",
        "with open('sample.json', 'r') as f:\n",
        "    data = json.load(f)\n",
        "    print(data)\n",
        "\n",
        "print(\"\\n-----------------------------\\n\")\n",
        "\n",
        "for i in data:\n",
        "    print(i)\n",
        "\n",
        "print(\"\\n-----------------------------\\n\")\n",
        "\n",
        "for i in data:\n",
        "    print(\"%s = %s\" % (i, data[i]))\n",
        "    print(f\"{i} = {data[i]}\")"
      ],
      "metadata": {
        "colab": {
          "base_uri": "https://localhost:8080/"
        },
        "id": "6v9ylb43eGU8",
        "outputId": "9a4fe468-20e4-4042-88ea-ebd84a8394bb"
      },
      "execution_count": 11,
      "outputs": [
        {
          "output_type": "stream",
          "name": "stdout",
          "text": [
            "{'firstname': 'Bahar', 'lastname': 'Karami', 'age': 21}\n",
            "\n",
            "-----------------------------\n",
            "\n",
            "firstname\n",
            "lastname\n",
            "age\n",
            "\n",
            "-----------------------------\n",
            "\n",
            "firstname = Bahar\n",
            "firstname = Bahar\n",
            "lastname = Karami\n",
            "lastname = Karami\n",
            "age = 21\n",
            "age = 21\n"
          ]
        }
      ]
    },
    {
      "cell_type": "markdown",
      "source": [
        "\n",
        "\n",
        "---\n",
        "\n"
      ],
      "metadata": {
        "id": "CLiGkIfnf_Ir"
      }
    },
    {
      "cell_type": "markdown",
      "source": [
        "\n",
        "Saving data to a simple JSON file:\n",
        "\n",
        "  - The file **`data.json`** is opened in **write mode**.\n",
        "  The **`json.dump()`** method writes the dictionary's data into the file.\n",
        "\n",
        "  - The **`ensure_ascii=False`** parameter ensures that **non-ASCII characters (like Unicode) are saved without being altered**.\n",
        "\n",
        "Saving data to a pretty-formatted JSON file:\n",
        "\n",
        "  - The file **`data.jsonl`** is opened in **write mode**.\n",
        "  - Data is written with indentation using the **`json.dump()`** method.\n",
        "\n",
        "  - The **`indent=4`** parameter specifies that each level of **indentation will use 4 spaces**, making the file more readable."
      ],
      "metadata": {
        "id": "1GoOCeRSf_p7"
      }
    },
    {
      "cell_type": "code",
      "source": [
        "import json\n",
        "\n",
        "data = {\n",
        "    \"firstname\" : \"Alice\",\n",
        "    \"lastname\" : \"Hall\",\n",
        "    \"age\" : \"35\"\n",
        "}\n",
        "\n",
        "with open('data.json', 'w', encoding='utf-8') as f:\n",
        "    json.dump(data, f, ensure_ascii=False)\n",
        "\n",
        "with open('data.jsonl', 'w', encoding='utf-8') as f:\n",
        "    json.dump(data, f, ensure_ascii=False, indent=4)"
      ],
      "metadata": {
        "id": "skrfwLwqu4S5"
      },
      "execution_count": 12,
      "outputs": []
    },
    {
      "cell_type": "markdown",
      "source": [
        "\n",
        "\n",
        "---\n",
        "\n"
      ],
      "metadata": {
        "id": "4nzdgaMsWwvq"
      }
    },
    {
      "cell_type": "markdown",
      "source": [
        "This code uses the Pandas library to create a data table (DataFrame):\n",
        "\n",
        "A dictionary named `mydataset` is defined with two keys.\n",
        "\n",
        "The **`pd.DataFrame()`** method converts the dictionary into a tabular data structure (DataFrame).\n",
        "\n",
        "The variable `myvar`, which contains the DataFrame, is printed."
      ],
      "metadata": {
        "id": "HiqKvFSiWxS3"
      }
    },
    {
      "cell_type": "code",
      "source": [
        "import pandas as pd\n",
        "\n",
        "mydataset = {\n",
        "  'cars': [\"BMW\", \"Volvo\", \"Ford\"],\n",
        "  'passings': [3, 7, 2]\n",
        "}\n",
        "\n",
        "myvar = pd.DataFrame(mydataset)\n",
        "\n",
        "print(myvar)"
      ],
      "metadata": {
        "colab": {
          "base_uri": "https://localhost:8080/"
        },
        "id": "4RMJQJ-Uv-eE",
        "outputId": "6661cd54-7f06-45e6-d601-b559a2b2b1df"
      },
      "execution_count": 13,
      "outputs": [
        {
          "output_type": "stream",
          "name": "stdout",
          "text": [
            "    cars  passings\n",
            "0    BMW         3\n",
            "1  Volvo         7\n",
            "2   Ford         2\n"
          ]
        }
      ]
    },
    {
      "cell_type": "markdown",
      "source": [
        "\n",
        "\n",
        "---\n",
        "\n"
      ],
      "metadata": {
        "id": "QR_b9yQlcbSF"
      }
    },
    {
      "cell_type": "markdown",
      "source": [
        "This code uses the Pandas library to create a Series:\n",
        "\n",
        "A list named `**a**` containing three numbers is defined.\n",
        "\n",
        "The **`pd.Series()`** method converts the list into a Series.\n",
        "\n",
        "- A Series in Pandas is a one-dimensional array with values and an associated index.\n",
        "\n",
        "- By default, the indices start from 0.\n",
        "\n",
        "The variable `myvar`, which holds the Series, is printed."
      ],
      "metadata": {
        "id": "WKZgvbDdcshV"
      }
    },
    {
      "cell_type": "code",
      "source": [
        "import pandas as pd\n",
        "\n",
        "a = [1, 7, 2]\n",
        "\n",
        "myvar = pd.Series(a)\n",
        "\n",
        "print(myvar)"
      ],
      "metadata": {
        "colab": {
          "base_uri": "https://localhost:8080/"
        },
        "id": "1dr9KIAfwVjH",
        "outputId": "c5a9a24d-880a-4cc3-9220-a66beee98485"
      },
      "execution_count": 14,
      "outputs": [
        {
          "output_type": "stream",
          "name": "stdout",
          "text": [
            "0    1\n",
            "1    7\n",
            "2    2\n",
            "dtype: int64\n"
          ]
        }
      ]
    },
    {
      "cell_type": "markdown",
      "source": [
        "\n",
        "\n",
        "---\n",
        "\n"
      ],
      "metadata": {
        "id": "hflUA7VyefM2"
      }
    },
    {
      "cell_type": "markdown",
      "source": [
        "The **`index`** parameter is used to set custom indices (\"x\", \"y\", and \"z\")."
      ],
      "metadata": {
        "id": "M5J4g0jYefza"
      }
    },
    {
      "cell_type": "code",
      "source": [
        "import pandas as pd\n",
        "\n",
        "a = [1, 7, 2]\n",
        "\n",
        "myvar = pd.Series(a, index = [\"x\", \"y\", \"z\"])\n",
        "\n",
        "print(myvar)"
      ],
      "metadata": {
        "colab": {
          "base_uri": "https://localhost:8080/"
        },
        "id": "kXDIw7-nweK6",
        "outputId": "24e47f17-dabc-4222-e469-852c67ce829e"
      },
      "execution_count": 15,
      "outputs": [
        {
          "output_type": "stream",
          "name": "stdout",
          "text": [
            "x    1\n",
            "y    7\n",
            "z    2\n",
            "dtype: int64\n"
          ]
        }
      ]
    },
    {
      "cell_type": "markdown",
      "source": [
        "\n",
        "\n",
        "---\n",
        "\n"
      ],
      "metadata": {
        "id": "s9hiQZF1fh1k"
      }
    },
    {
      "cell_type": "markdown",
      "source": [
        "The **`pd.Series()`** method converts the dictionary into a Series.\n",
        "\n",
        "The dictionary keys become the indices, and the values become the data."
      ],
      "metadata": {
        "id": "de7Mnl-HficM"
      }
    },
    {
      "cell_type": "code",
      "source": [
        "import pandas as pd\n",
        "\n",
        "calories = {\"day1\": 420, \"day2\": 380, \"day3\": 390}\n",
        "\n",
        "myvar = pd.Series(calories)\n",
        "\n",
        "print(myvar)"
      ],
      "metadata": {
        "colab": {
          "base_uri": "https://localhost:8080/"
        },
        "id": "VeEN-eYnwlTK",
        "outputId": "e3c3de87-1e73-47b7-8f5e-d35183df72f2"
      },
      "execution_count": 16,
      "outputs": [
        {
          "output_type": "stream",
          "name": "stdout",
          "text": [
            "day1    420\n",
            "day2    380\n",
            "day3    390\n",
            "dtype: int64\n"
          ]
        }
      ]
    },
    {
      "cell_type": "markdown",
      "source": [
        "\n",
        "\n",
        "---\n",
        "\n"
      ],
      "metadata": {
        "id": "ffrEyLELgyKQ"
      }
    },
    {
      "cell_type": "markdown",
      "source": [
        "The data dictionary contains two keys:\n",
        "- `calories`: A list of calorie values (420, 380, 390).\n",
        "- `duration`: A list of duration values (50, 40, 45).\n",
        "Create a DataFrame:\n",
        "\n",
        "The **`pd.DataFrame()`** method converts the dictionary into a DataFrame.\n",
        "- Each key becomes a column, and the values of each key become the data for that column.\n",
        "\n",
        "The variable `df`, which holds the DataFrame, is printed."
      ],
      "metadata": {
        "id": "ISwusSQ8g0AT"
      }
    },
    {
      "cell_type": "code",
      "source": [
        "import pandas as pd\n",
        "\n",
        "data = {\n",
        "    \"calories\" : [420, 380, 390],\n",
        "    \"duration\" : [50, 40, 45]\n",
        "}\n",
        "\n",
        "df = pd.DataFrame(data)\n",
        "\n",
        "print(df)"
      ],
      "metadata": {
        "colab": {
          "base_uri": "https://localhost:8080/"
        },
        "id": "Px1_lzWvwzLK",
        "outputId": "8c0259e7-3d8d-4a84-bcb2-a3ec7edc5a66"
      },
      "execution_count": 17,
      "outputs": [
        {
          "output_type": "stream",
          "name": "stdout",
          "text": [
            "   calories  duration\n",
            "0       420        50\n",
            "1       380        40\n",
            "2       390        45\n"
          ]
        }
      ]
    },
    {
      "cell_type": "markdown",
      "source": [
        "\n",
        "\n",
        "---\n",
        "\n"
      ],
      "metadata": {
        "id": "Mn-1k9rJTXgW"
      }
    },
    {
      "cell_type": "markdown",
      "source": [
        "\n",
        "The `loc` method is used to access rows by index.\n",
        "\n",
        "- **`df.loc[[0, 1]]`** means selecting rows with indices 0 and 1."
      ],
      "metadata": {
        "id": "i780meXiTYp7"
      }
    },
    {
      "cell_type": "code",
      "source": [
        "import pandas as pd\n",
        "\n",
        "data = {\n",
        "    \"calories\" : [420, 380, 390],\n",
        "    \"duration\" : [50, 40, 45]\n",
        "}\n",
        "\n",
        "df = pd.DataFrame(data)\n",
        "\n",
        "print(df.loc[[0, 1]])"
      ],
      "metadata": {
        "colab": {
          "base_uri": "https://localhost:8080/"
        },
        "id": "w1YiK9JAxGjD",
        "outputId": "2493f5e7-634e-40bb-de5f-0d954e9b984d"
      },
      "execution_count": 18,
      "outputs": [
        {
          "output_type": "stream",
          "name": "stdout",
          "text": [
            "   calories  duration\n",
            "0       420        50\n",
            "1       380        40\n"
          ]
        }
      ]
    },
    {
      "cell_type": "markdown",
      "source": [
        "\n",
        "\n",
        "---\n",
        "\n"
      ],
      "metadata": {
        "id": "I3957L_NVmi6"
      }
    },
    {
      "cell_type": "markdown",
      "source": [
        "The `data` dictionary contains two keys, `calories` and `duration`, which are used as columns in the DataFrame.\n",
        "\n",
        "The `index` parameter in `pd.DataFrame()` assigns custom indices (\"day1\", \"day2\", \"day3\") to the rows.\n",
        "Select rows with custom indices:\n",
        "\n",
        "The `loc` method is used to select rows by their indices:\n",
        "- `df.loc[[\"day1\", \"day2\"]]` selects rows \"`day1`\" and \"`day`\"."
      ],
      "metadata": {
        "id": "4dl1xD2LVnQS"
      }
    },
    {
      "cell_type": "code",
      "source": [
        "import pandas as pd\n",
        "\n",
        "data = {\n",
        "    \"calories\" : [420, 380, 390],\n",
        "    \"duration\" : [50, 40, 45]\n",
        "}\n",
        "\n",
        "df = pd.DataFrame(data, index = [\"day1\", \"day2\", \"day3\"])\n",
        "\n",
        "print(df.loc[[\"day1\", \"day2\"]])"
      ],
      "metadata": {
        "colab": {
          "base_uri": "https://localhost:8080/"
        },
        "id": "-BY1cH5-xqLx",
        "outputId": "d5b9d255-0eee-4d61-bf29-a827d2d37213"
      },
      "execution_count": 19,
      "outputs": [
        {
          "output_type": "stream",
          "name": "stdout",
          "text": [
            "      calories  duration\n",
            "day1       420        50\n",
            "day2       380        40\n"
          ]
        }
      ]
    },
    {
      "cell_type": "markdown",
      "source": [
        "\n",
        "\n",
        "---\n",
        "\n"
      ],
      "metadata": {
        "id": "m1rFCQG_Yzo1"
      }
    },
    {
      "cell_type": "markdown",
      "source": [
        "**`pd.read_csv('data.csv')`** reads the data from `data.csv` into a DataFrame.\n",
        "\n",
        "**`df.to_string()`** returns the entire content of the DataFrame as a complete text string.\n",
        "\n",
        "- If the DataFrame is lengthy, it bypasses the default truncated display to show all rows and columns."
      ],
      "metadata": {
        "id": "01XaqaxPY0ZW"
      }
    },
    {
      "cell_type": "code",
      "source": [
        "import pandas as pd\n",
        "\n",
        "df = pd.read_csv('data.csv')\n",
        "\n",
        "print(df.to_string())"
      ],
      "metadata": {
        "colab": {
          "base_uri": "https://localhost:8080/"
        },
        "id": "Ba6ID47oyECj",
        "outputId": "d0b22d8b-459e-4782-ff38-0376da3bfdaf"
      },
      "execution_count": 20,
      "outputs": [
        {
          "output_type": "stream",
          "name": "stdout",
          "text": [
            "     Duration  Pulse  Maxpulse  Calories\n",
            "0          60    110       130     409.1\n",
            "1          60    117       145     479.0\n",
            "2          60    103       135     340.0\n",
            "3          45    109       175     282.4\n",
            "4          45    117       148     406.0\n",
            "5          60    102       127     300.0\n",
            "6          60    110       136     374.0\n",
            "7          45    104       134     253.3\n",
            "8          30    109       133     195.1\n",
            "9          60     98       124     269.0\n",
            "10         60    103       147     329.3\n",
            "11         60    100       120     250.7\n",
            "12         60    106       128     345.3\n",
            "13         60    104       132     379.3\n",
            "14         60     98       123     275.0\n",
            "15         60     98       120     215.2\n",
            "16         60    100       120     300.0\n",
            "17         45     90       112       NaN\n",
            "18         60    103       123     323.0\n",
            "19         45     97       125     243.0\n",
            "20         60    108       131     364.2\n",
            "21         45    100       119     282.0\n",
            "22         60    130       101     300.0\n",
            "23         45    105       132     246.0\n",
            "24         60    102       126     334.5\n",
            "25         60    100       120     250.0\n",
            "26         60     92       118     241.0\n",
            "27         60    103       132       NaN\n",
            "28         60    100       132     280.0\n",
            "29         60    102       129     380.3\n",
            "30         60     92       115     243.0\n",
            "31         45     90       112     180.1\n",
            "32         60    101       124     299.0\n",
            "33         60     93       113     223.0\n",
            "34         60    107       136     361.0\n",
            "35         60    114       140     415.0\n",
            "36         60    102       127     300.0\n",
            "37         60    100       120     300.0\n",
            "38         60    100       120     300.0\n",
            "39         45    104       129     266.0\n",
            "40         45     90       112     180.1\n",
            "41         60     98       126     286.0\n",
            "42         60    100       122     329.4\n",
            "43         60    111       138     400.0\n",
            "44         60    111       131     397.0\n",
            "45         60     99       119     273.0\n",
            "46         60    109       153     387.6\n",
            "47         45    111       136     300.0\n",
            "48         45    108       129     298.0\n",
            "49         60    111       139     397.6\n",
            "50         60    107       136     380.2\n",
            "51         80    123       146     643.1\n",
            "52         60    106       130     263.0\n",
            "53         60    118       151     486.0\n",
            "54         30    136       175     238.0\n",
            "55         60    121       146     450.7\n",
            "56         60    118       121     413.0\n",
            "57         45    115       144     305.0\n",
            "58         20    153       172     226.4\n",
            "59         45    123       152     321.0\n",
            "60        210    108       160    1376.0\n",
            "61        160    110       137    1034.4\n",
            "62        160    109       135     853.0\n",
            "63         45    118       141     341.0\n",
            "64         20    110       130     131.4\n",
            "65        180     90       130     800.4\n",
            "66        150    105       135     873.4\n",
            "67        150    107       130     816.0\n",
            "68         20    106       136     110.4\n",
            "69        300    108       143    1500.2\n",
            "70        150     97       129    1115.0\n",
            "71         60    109       153     387.6\n",
            "72         90    100       127     700.0\n",
            "73        150     97       127     953.2\n",
            "74         45    114       146     304.0\n",
            "75         90     98       125     563.2\n",
            "76         45    105       134     251.0\n",
            "77         45    110       141     300.0\n",
            "78        120    100       130     500.4\n",
            "79        270    100       131    1729.0\n",
            "80         30    159       182     319.2\n",
            "81         45    149       169     344.0\n",
            "82         30    103       139     151.1\n",
            "83        120    100       130     500.0\n",
            "84         45    100       120     225.3\n",
            "85         30    151       170     300.0\n",
            "86         45    102       136     234.0\n",
            "87        120    100       157    1000.1\n",
            "88         45    129       103     242.0\n",
            "89         20     83       107      50.3\n",
            "90        180    101       127     600.1\n",
            "91         45    107       137       NaN\n",
            "92         30     90       107     105.3\n",
            "93         15     80       100      50.5\n",
            "94         20    150       171     127.4\n",
            "95         20    151       168     229.4\n",
            "96         30     95       128     128.2\n",
            "97         25    152       168     244.2\n",
            "98         30    109       131     188.2\n",
            "99         90     93       124     604.1\n",
            "100        20     95       112      77.7\n",
            "101        90     90       110     500.0\n",
            "102        90     90       100     500.0\n",
            "103        90     90       100     500.4\n",
            "104        30     92       108      92.7\n",
            "105        30     93       128     124.0\n",
            "106       180     90       120     800.3\n",
            "107        30     90       120      86.2\n",
            "108        90     90       120     500.3\n",
            "109       210    137       184    1860.4\n",
            "110        60    102       124     325.2\n",
            "111        45    107       124     275.0\n",
            "112        15    124       139     124.2\n",
            "113        45    100       120     225.3\n",
            "114        60    108       131     367.6\n",
            "115        60    108       151     351.7\n",
            "116        60    116       141     443.0\n",
            "117        60     97       122     277.4\n",
            "118        60    105       125       NaN\n",
            "119        60    103       124     332.7\n",
            "120        30    112       137     193.9\n",
            "121        45    100       120     100.7\n",
            "122        60    119       169     336.7\n",
            "123        60    107       127     344.9\n",
            "124        60    111       151     368.5\n",
            "125        60     98       122     271.0\n",
            "126        60     97       124     275.3\n",
            "127        60    109       127     382.0\n",
            "128        90     99       125     466.4\n",
            "129        60    114       151     384.0\n",
            "130        60    104       134     342.5\n",
            "131        60    107       138     357.5\n",
            "132        60    103       133     335.0\n",
            "133        60    106       132     327.5\n",
            "134        60    103       136     339.0\n",
            "135        20    136       156     189.0\n",
            "136        45    117       143     317.7\n",
            "137        45    115       137     318.0\n",
            "138        45    113       138     308.0\n",
            "139        20    141       162     222.4\n",
            "140        60    108       135     390.0\n",
            "141        60     97       127       NaN\n",
            "142        45    100       120     250.4\n",
            "143        45    122       149     335.4\n",
            "144        60    136       170     470.2\n",
            "145        45    106       126     270.8\n",
            "146        60    107       136     400.0\n",
            "147        60    112       146     361.9\n",
            "148        30    103       127     185.0\n",
            "149        60    110       150     409.4\n",
            "150        60    106       134     343.0\n",
            "151        60    109       129     353.2\n",
            "152        60    109       138     374.0\n",
            "153        30    150       167     275.8\n",
            "154        60    105       128     328.0\n",
            "155        60    111       151     368.5\n",
            "156        60     97       131     270.4\n",
            "157        60    100       120     270.4\n",
            "158        60    114       150     382.8\n",
            "159        30     80       120     240.9\n",
            "160        30     85       120     250.4\n",
            "161        45     90       130     260.4\n",
            "162        45     95       130     270.0\n",
            "163        45    100       140     280.9\n",
            "164        60    105       140     290.8\n",
            "165        60    110       145     300.0\n",
            "166        60    115       145     310.2\n",
            "167        75    120       150     320.4\n",
            "168        75    125       150     330.4\n"
          ]
        }
      ]
    },
    {
      "cell_type": "markdown",
      "source": [
        "\n",
        "\n",
        "---\n",
        "\n"
      ],
      "metadata": {
        "id": "YNwh76tpbYvL"
      }
    },
    {
      "cell_type": "markdown",
      "source": [
        "\n",
        "**`pd.read_json('data1.json')`** reads the file `data1.json` and converts it into a DataFrame.\n",
        "The JSON file should have a structure similar to Python dictionaries.\n",
        "\n",
        "**`df.to_string()`** converts the entire content of the DataFrame into a string."
      ],
      "metadata": {
        "id": "FTgy9R4WbZXj"
      }
    },
    {
      "cell_type": "code",
      "source": [
        "import pandas as pd\n",
        "\n",
        "df = pd.read_json('data1.json')\n",
        "\n",
        "print(df.to_string())"
      ],
      "metadata": {
        "colab": {
          "base_uri": "https://localhost:8080/"
        },
        "id": "SIqYee871LtR",
        "outputId": "f9b973c2-6829-4507-be2d-db646968dce7"
      },
      "execution_count": 21,
      "outputs": [
        {
          "output_type": "stream",
          "name": "stdout",
          "text": [
            "   Duration  Pulse  Maxpulse  Calories\n",
            "0        60    110       130       409\n",
            "1        60    117       145       479\n",
            "2        60    103       135       340\n",
            "3        45    109       175       282\n",
            "4        45    117       148       406\n",
            "5        60    102       127       300\n"
          ]
        }
      ]
    },
    {
      "cell_type": "markdown",
      "source": [
        "\n",
        "\n",
        "---\n",
        "\n"
      ],
      "metadata": {
        "id": "0SVwAHhf5jJT"
      }
    },
    {
      "cell_type": "markdown",
      "source": [
        "This code creates a DataFrame in Pandas, saves it as a JSON file with a specific orientation, reads the JSON file back into a DataFrame, and prints the content:\n",
        "\n",
        "\n",
        "1. The data contains three rows and three columns, defined as a 2D array.\n",
        "Custom indices are set as `row 1`, `row 2`, and `row 3`.\n",
        "Columns are named `col1`, `col2`, and `col3`.\n",
        "\n",
        "\n",
        "2. **`to_json()`** saves the DataFrame to the file `file.json`.\n",
        "- The parameter **`orient='split'`** specifies a split-oriented format, which includes:\n",
        "  - columns: Column names\n",
        "  - index: Row indices\n",
        "  - data: Actual data\n",
        "- The parameter **`compression='infer'`** defaults to no compression.\n",
        "\n",
        "3. **`read_json()`** reads the file `file.json` and converts it back into a DataFrame.\n",
        "- The format must match `orient='split`'.\n",
        "\n",
        "4. The contents of the file, reloaded as a DataFrame, are printed."
      ],
      "metadata": {
        "id": "un8sqO3d5kLI"
      }
    },
    {
      "cell_type": "code",
      "source": [
        "import pandas as pd\n",
        "\n",
        "df = pd.DataFrame([['a', 'b', 'c'], ['d', 'e', 'f'], ['g', 'h', 'i']],\n",
        "                  index=['row 1', 'row 2', 'row 3'],\n",
        "                  columns=['col1', 'col2', 'col3'])\n",
        "\n",
        "df.to_json('file.json', orient='split', compression='infer', index='true')\n",
        "\n",
        "df = pd.read_json('file.json', orient='split', compression='infer')\n",
        "\n",
        "print(df)"
      ],
      "metadata": {
        "colab": {
          "base_uri": "https://localhost:8080/"
        },
        "id": "M-zkgMHR1TlY",
        "outputId": "5af11b2f-d073-4469-c202-175a40fdf419"
      },
      "execution_count": 22,
      "outputs": [
        {
          "output_type": "stream",
          "name": "stdout",
          "text": [
            "      col1 col2 col3\n",
            "row 1    a    b    c\n",
            "row 2    d    e    f\n",
            "row 3    g    h    i\n"
          ]
        }
      ]
    }
  ]
}
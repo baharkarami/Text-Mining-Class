{
  "nbformat": 4,
  "nbformat_minor": 0,
  "metadata": {
    "colab": {
      "provenance": [],
      "authorship_tag": "ABX9TyOva6vjppx3znWZ3W83tlh+",
      "include_colab_link": true
    },
    "kernelspec": {
      "name": "python3",
      "display_name": "Python 3"
    },
    "language_info": {
      "name": "python"
    }
  },
  "cells": [
    {
      "cell_type": "markdown",
      "metadata": {
        "id": "view-in-github",
        "colab_type": "text"
      },
      "source": [
        "<a href=\"https://colab.research.google.com/github/baharkarami/Text-Mining-Class/blob/main/basic_python.ipynb\" target=\"_parent\"><img src=\"https://colab.research.google.com/assets/colab-badge.svg\" alt=\"Open In Colab\"/></a>"
      ]
    },
    {
      "cell_type": "markdown",
      "source": [
        "# **built-in data types in Python**\n",
        "\n",
        "\n"
      ],
      "metadata": {
        "id": "ZBDxNzGS-FCn"
      }
    },
    {
      "cell_type": "markdown",
      "source": [
        "1. Integer (int)\n",
        "\n",
        "  An integer is a whole number, positive or negative, without a decimal point."
      ],
      "metadata": {
        "id": "FNZQBN9u-tDk"
      }
    },
    {
      "cell_type": "code",
      "source": [
        "x = 10\n",
        "print(type(x))\n",
        "print(x)"
      ],
      "metadata": {
        "colab": {
          "base_uri": "https://localhost:8080/"
        },
        "id": "qEkAiTak-wT-",
        "outputId": "7106f6a1-4a0b-4f40-bac9-1b6341d78390"
      },
      "execution_count": null,
      "outputs": [
        {
          "output_type": "stream",
          "name": "stdout",
          "text": [
            "<class 'int'>\n",
            "10\n"
          ]
        }
      ]
    },
    {
      "cell_type": "markdown",
      "source": [
        "2. Floating-point number (float)\n",
        "\n",
        "  A float is a number that has a decimal point."
      ],
      "metadata": {
        "id": "i-qii9S0-3z_"
      }
    },
    {
      "cell_type": "code",
      "source": [
        "y = 3.14\n",
        "print(type(y))\n",
        "print(y)"
      ],
      "metadata": {
        "colab": {
          "base_uri": "https://localhost:8080/"
        },
        "id": "TycTRp6i-7b-",
        "outputId": "f8f1d37d-44d7-4664-ed23-38bb271183b5"
      },
      "execution_count": null,
      "outputs": [
        {
          "output_type": "stream",
          "name": "stdout",
          "text": [
            "<class 'float'>\n",
            "3.14\n"
          ]
        }
      ]
    },
    {
      "cell_type": "markdown",
      "source": [
        "3. Complex numbers (complex)\n",
        "\n",
        "  are numbers that have both a real and an imaginary part. They are represented as `real` + `imaginaryj`, where `real` is the real part and `imaginary` is the imaginary part, denoted by `j` or `J`."
      ],
      "metadata": {
        "id": "o5lR_vVE_YRV"
      }
    },
    {
      "cell_type": "code",
      "source": [
        "z1 = 3 + 4j\n",
        "print(type(z1))\n",
        "print(z1)"
      ],
      "metadata": {
        "colab": {
          "base_uri": "https://localhost:8080/"
        },
        "id": "11dijjXQ_0VH",
        "outputId": "5e877fce-2465-4f83-818f-1e71a49f6276"
      },
      "execution_count": null,
      "outputs": [
        {
          "output_type": "stream",
          "name": "stdout",
          "text": [
            "<class 'complex'>\n",
            "(3+4j)\n"
          ]
        }
      ]
    },
    {
      "cell_type": "markdown",
      "source": [
        "4. String (str)\n",
        "\n",
        "  A string is a sequence of characters enclosed in single, double, or triple quotes."
      ],
      "metadata": {
        "id": "ilPCx1Ji--iv"
      }
    },
    {
      "cell_type": "code",
      "source": [
        "name = \"Alice\"\n",
        "print(type(name))\n",
        "print(name)"
      ],
      "metadata": {
        "colab": {
          "base_uri": "https://localhost:8080/"
        },
        "id": "-zE2Ko8MAGJ0",
        "outputId": "677be91e-248e-4521-fdc3-7611344debf1"
      },
      "execution_count": null,
      "outputs": [
        {
          "output_type": "stream",
          "name": "stdout",
          "text": [
            "<class 'str'>\n",
            "Alice\n"
          ]
        }
      ]
    },
    {
      "cell_type": "markdown",
      "source": [
        "5. Boolean (bool)\n",
        "\n",
        "  A boolean value can either be `True` or `False`."
      ],
      "metadata": {
        "id": "a5Ok3NWHAHm0"
      }
    },
    {
      "cell_type": "code",
      "source": [
        "is_valid = True\n",
        "print(type(is_valid))\n",
        "print(is_valid)"
      ],
      "metadata": {
        "colab": {
          "base_uri": "https://localhost:8080/"
        },
        "id": "ITuunKf4AH8d",
        "outputId": "5b496f9f-eb1e-4b97-867b-3046321d1ec3"
      },
      "execution_count": null,
      "outputs": [
        {
          "output_type": "stream",
          "name": "stdout",
          "text": [
            "<class 'bool'>\n",
            "True\n"
          ]
        }
      ]
    },
    {
      "cell_type": "markdown",
      "source": [
        "6. List (list)\n",
        "\n",
        "  A list is an ordered, mutable collection of elements. Elements can be of any data type."
      ],
      "metadata": {
        "id": "ITSAwAwvAjDd"
      }
    },
    {
      "cell_type": "code",
      "source": [
        "fruits = [\"apple\", \"banana\", \"cherry\"]\n",
        "print(type(fruits))\n",
        "print(fruits)"
      ],
      "metadata": {
        "colab": {
          "base_uri": "https://localhost:8080/"
        },
        "id": "_3_gzoHJAoOA",
        "outputId": "d26f5027-4e57-4a83-a6d1-5a41a07d9b65"
      },
      "execution_count": null,
      "outputs": [
        {
          "output_type": "stream",
          "name": "stdout",
          "text": [
            "<class 'list'>\n",
            "['apple', 'banana', 'cherry']\n"
          ]
        }
      ]
    },
    {
      "cell_type": "code",
      "source": [
        "r = [\"a\", 2, True]\n",
        "print(type(r))\n",
        "print(r)\n"
      ],
      "metadata": {
        "colab": {
          "base_uri": "https://localhost:8080/"
        },
        "id": "YsnypJw_Aodr",
        "outputId": "4bf6dd10-a62a-4909-aaf2-495ba113f174"
      },
      "execution_count": null,
      "outputs": [
        {
          "output_type": "stream",
          "name": "stdout",
          "text": [
            "<class 'list'>\n",
            "['a', 2, True]\n"
          ]
        }
      ]
    },
    {
      "cell_type": "markdown",
      "source": [
        "7. Tuple (tuple)\n",
        "\n",
        "  A tuple is an ordered, immutable collection of elements."
      ],
      "metadata": {
        "id": "hQ1ilM57Ax0u"
      }
    },
    {
      "cell_type": "code",
      "source": [
        "coordinates = (10, 20, 30)\n",
        "print(type(coordinates))\n",
        "print(coordinates)"
      ],
      "metadata": {
        "colab": {
          "base_uri": "https://localhost:8080/"
        },
        "id": "U91OVJV-A2X9",
        "outputId": "7df557c3-5bfc-4975-bc58-a35d714d374d"
      },
      "execution_count": null,
      "outputs": [
        {
          "output_type": "stream",
          "name": "stdout",
          "text": [
            "<class 'tuple'>\n",
            "(10, 20, 30)\n"
          ]
        }
      ]
    },
    {
      "cell_type": "markdown",
      "source": [
        "8. Set (set)\n",
        "\n",
        "  A set is an unordered collection of unique elements."
      ],
      "metadata": {
        "id": "sIv5_qrUBDGk"
      }
    },
    {
      "cell_type": "code",
      "source": [
        "colors = {\"red\", \"green\", \"blue\"}\n",
        "print(type(colors))\n",
        "print(colors)"
      ],
      "metadata": {
        "colab": {
          "base_uri": "https://localhost:8080/"
        },
        "id": "Dek3nsO_BQUp",
        "outputId": "a0975e04-c072-4fb8-992d-63ab5a0e753b"
      },
      "execution_count": null,
      "outputs": [
        {
          "output_type": "stream",
          "name": "stdout",
          "text": [
            "<class 'set'>\n",
            "{'green', 'blue', 'red'}\n"
          ]
        }
      ]
    },
    {
      "cell_type": "markdown",
      "source": [
        "9. Dictionary (dict)\n",
        "\n",
        "  A dictionary is a collection of key-value pairs."
      ],
      "metadata": {
        "id": "0r-KeC_vBU6W"
      }
    },
    {
      "cell_type": "code",
      "source": [
        "person = {\"name\": \"Alice\", \"age\": 25}\n",
        "print(type(person))\n",
        "print(colors)"
      ],
      "metadata": {
        "colab": {
          "base_uri": "https://localhost:8080/"
        },
        "id": "r20Z9GocBa3Z",
        "outputId": "c4d50e23-6a4b-4158-9764-d3c766c21582"
      },
      "execution_count": null,
      "outputs": [
        {
          "output_type": "stream",
          "name": "stdout",
          "text": [
            "<class 'dict'>\n",
            "{'green', 'blue', 'red'}\n"
          ]
        }
      ]
    },
    {
      "cell_type": "markdown",
      "source": [
        "10. Range (range)\n",
        "\n",
        "  A range represents an immutable sequence of numbers, often used in loops."
      ],
      "metadata": {
        "id": "Gaj8xzNVBn43"
      }
    },
    {
      "cell_type": "code",
      "source": [
        "numbers = range(5)\n",
        "print(type(numbers))\n",
        "print(numbers)"
      ],
      "metadata": {
        "colab": {
          "base_uri": "https://localhost:8080/"
        },
        "id": "1970MJ5UBtzM",
        "outputId": "e6dc1bb7-2d6d-43b7-c8ae-293a2d7faac0"
      },
      "execution_count": null,
      "outputs": [
        {
          "output_type": "stream",
          "name": "stdout",
          "text": [
            "<class 'range'>\n",
            "range(0, 5)\n"
          ]
        }
      ]
    },
    {
      "cell_type": "markdown",
      "source": [
        "11. Frozen set (frozenset)\n",
        "\n",
        "  A frozen set is an immutable version of a set. Like a regular set, it is an unordered collection of unique elements. However, unlike a regular set, you cannot modify a frozen set once it is created—no adding or removing elements is allowed."
      ],
      "metadata": {
        "id": "IhAtvjFnDvNF"
      }
    },
    {
      "cell_type": "code",
      "source": [
        "# Creating a frozen set from a list\n",
        "fruits = [\"apple\", \"banana\", \"cherry\", \"apple\"]\n",
        "frozen_fruits = frozenset(fruits)\n",
        "print(type(frozen_fruits))\n",
        "print(frozen_fruits)"
      ],
      "metadata": {
        "colab": {
          "base_uri": "https://localhost:8080/"
        },
        "id": "e2mGygukEFvt",
        "outputId": "16959df9-e059-4056-8116-7b2813ac5edb"
      },
      "execution_count": null,
      "outputs": [
        {
          "output_type": "stream",
          "name": "stdout",
          "text": [
            "<class 'frozenset'>\n",
            "frozenset({'banana', 'cherry', 'apple'})\n"
          ]
        }
      ]
    },
    {
      "cell_type": "code",
      "source": [
        "# Creating frozen sets\n",
        "fs1 = frozenset([1, 2, 3])\n",
        "fs2 = frozenset([4, 5, 6])\n",
        "\n",
        "# Using frozen sets as dictionary keys\n",
        "dic = {fs1: \"Set 1\", fs2: \"Set 2\"}\n",
        "print(dic)"
      ],
      "metadata": {
        "colab": {
          "base_uri": "https://localhost:8080/"
        },
        "id": "-uhuImK6EkXR",
        "outputId": "3ce320ae-13d3-4f20-c90f-fbeaf9185ba0"
      },
      "execution_count": null,
      "outputs": [
        {
          "output_type": "stream",
          "name": "stdout",
          "text": [
            "{frozenset({1, 2, 3}): 'Set 1', frozenset({4, 5, 6}): 'Set 2'}\n"
          ]
        }
      ]
    },
    {
      "cell_type": "markdown",
      "source": [
        "Feature    -  Set\t     -     Frozen Set\n",
        "\n",
        "Mutability: Mutable\t   -  Immutable\n",
        "\n",
        "Hashable:   Not Hashable\t- Hashable\n",
        "\n",
        "Used as Key: Not Allowed\t-  Allowed\n",
        "\n",
        "Add/Remove:  Possible\t   -   Not Possible\n",
        "\n",
        "\n",
        "\n",
        "---\n"
      ],
      "metadata": {
        "id": "8_jn3Fn9E9A2"
      }
    },
    {
      "cell_type": "markdown",
      "source": [
        "# **numbers in python:**"
      ],
      "metadata": {
        "id": "18eH2UDzfJ9-"
      }
    },
    {
      "cell_type": "code",
      "source": [
        "x = 1        # int\n",
        "y = 2.8      # float\n",
        "z = 3 + 4j   # complex"
      ],
      "metadata": {
        "id": "nMDKxpWJfMea"
      },
      "execution_count": null,
      "outputs": []
    },
    {
      "cell_type": "markdown",
      "source": [
        "**operations on numbers:**"
      ],
      "metadata": {
        "id": "32r-oLaEfo8w"
      }
    },
    {
      "cell_type": "markdown",
      "source": [
        "1. Arithmetic Operations:"
      ],
      "metadata": {
        "id": "gDk0V0aJh3g-"
      }
    },
    {
      "cell_type": "code",
      "source": [
        "a = 5\n",
        "b = 3"
      ],
      "metadata": {
        "id": "OcT_L5d-fkJe"
      },
      "execution_count": null,
      "outputs": []
    },
    {
      "cell_type": "code",
      "source": [
        "# Addition (+): Adds two numbers:\n",
        "a + b"
      ],
      "metadata": {
        "colab": {
          "base_uri": "https://localhost:8080/"
        },
        "id": "gEcjqUJCgf-6",
        "outputId": "4269ebb5-e2ac-4728-a712-191981065aa2"
      },
      "execution_count": null,
      "outputs": [
        {
          "output_type": "execute_result",
          "data": {
            "text/plain": [
              "8"
            ]
          },
          "metadata": {},
          "execution_count": 16
        }
      ]
    },
    {
      "cell_type": "code",
      "source": [
        "# Subtraction (-): Subtracts one number from another.\n",
        "a - b"
      ],
      "metadata": {
        "colab": {
          "base_uri": "https://localhost:8080/"
        },
        "id": "9XctLya9gm73",
        "outputId": "84444ad0-c1f5-41c9-e11b-ad88e3758206"
      },
      "execution_count": null,
      "outputs": [
        {
          "output_type": "execute_result",
          "data": {
            "text/plain": [
              "2"
            ]
          },
          "metadata": {},
          "execution_count": 17
        }
      ]
    },
    {
      "cell_type": "code",
      "source": [
        "# Multiplication (*): Multiplies two numbers.\n",
        "a * b"
      ],
      "metadata": {
        "colab": {
          "base_uri": "https://localhost:8080/"
        },
        "id": "3-Wto3hTgvig",
        "outputId": "54c417c3-5e3f-41ab-b39c-ac65dcb33e6c"
      },
      "execution_count": null,
      "outputs": [
        {
          "output_type": "execute_result",
          "data": {
            "text/plain": [
              "15"
            ]
          },
          "metadata": {},
          "execution_count": 18
        }
      ]
    },
    {
      "cell_type": "code",
      "source": [
        "# Division (/): Divides one number by another (returns a float).\n",
        "a / b"
      ],
      "metadata": {
        "colab": {
          "base_uri": "https://localhost:8080/"
        },
        "id": "2tj23V9Og5P-",
        "outputId": "9a394b2d-a432-44f4-bc8b-4b06d7a2a5c1"
      },
      "execution_count": null,
      "outputs": [
        {
          "output_type": "execute_result",
          "data": {
            "text/plain": [
              "1.6666666666666667"
            ]
          },
          "metadata": {},
          "execution_count": 19
        }
      ]
    },
    {
      "cell_type": "code",
      "source": [
        "# Floor Division (//): Divides one number by another and rounds down to the nearest integer.\n",
        "a // b\n"
      ],
      "metadata": {
        "colab": {
          "base_uri": "https://localhost:8080/"
        },
        "id": "-FfC7HFShQWH",
        "outputId": "39ecc312-551b-4bf7-955d-eca5e2b2c607"
      },
      "execution_count": null,
      "outputs": [
        {
          "output_type": "execute_result",
          "data": {
            "text/plain": [
              "1"
            ]
          },
          "metadata": {},
          "execution_count": 20
        }
      ]
    },
    {
      "cell_type": "code",
      "source": [
        "# Modulus (%): Returns the remainder of division.\n",
        "a % b"
      ],
      "metadata": {
        "colab": {
          "base_uri": "https://localhost:8080/"
        },
        "id": "MM3DT2T5haem",
        "outputId": "cb4dff07-d8b6-47ea-9291-6c5a27c8225d"
      },
      "execution_count": null,
      "outputs": [
        {
          "output_type": "execute_result",
          "data": {
            "text/plain": [
              "2"
            ]
          },
          "metadata": {},
          "execution_count": 21
        }
      ]
    },
    {
      "cell_type": "code",
      "source": [
        "# Exponentiation (**): Raises one number to the power of another.\n",
        "a ** b"
      ],
      "metadata": {
        "colab": {
          "base_uri": "https://localhost:8080/"
        },
        "id": "ZwdtuFn2gUQM",
        "outputId": "56f02272-f894-41fa-c6a9-5a962ec993bf"
      },
      "execution_count": null,
      "outputs": [
        {
          "output_type": "execute_result",
          "data": {
            "text/plain": [
              "125"
            ]
          },
          "metadata": {},
          "execution_count": 22
        }
      ]
    },
    {
      "cell_type": "markdown",
      "source": [
        "2. Comparison Operations:"
      ],
      "metadata": {
        "id": "kMxGA4Qth-xW"
      }
    },
    {
      "cell_type": "code",
      "source": [
        "# Equal to (==): Checks if two numbers are equal.\n",
        "(a == b)"
      ],
      "metadata": {
        "colab": {
          "base_uri": "https://localhost:8080/"
        },
        "id": "LpGJRSAyiDbI",
        "outputId": "e2fed4fa-9d5d-434f-8e2b-9e372a392a55"
      },
      "execution_count": null,
      "outputs": [
        {
          "output_type": "execute_result",
          "data": {
            "text/plain": [
              "False"
            ]
          },
          "metadata": {},
          "execution_count": 23
        }
      ]
    },
    {
      "cell_type": "code",
      "source": [
        "# Not equal to (!=): Checks if two numbers are not equal.\n",
        "(a != b)"
      ],
      "metadata": {
        "colab": {
          "base_uri": "https://localhost:8080/"
        },
        "id": "SdWOTadRiHjG",
        "outputId": "6b75e4cd-1b2f-45a8-bfc8-0a95ec9c7e7e"
      },
      "execution_count": null,
      "outputs": [
        {
          "output_type": "execute_result",
          "data": {
            "text/plain": [
              "True"
            ]
          },
          "metadata": {},
          "execution_count": 24
        }
      ]
    },
    {
      "cell_type": "code",
      "source": [
        "# Greater than (>): Checks if the first number is greater than the second.\n",
        "(a > b)"
      ],
      "metadata": {
        "colab": {
          "base_uri": "https://localhost:8080/"
        },
        "id": "ZGHFeHt3iOH3",
        "outputId": "91a041af-553f-4dfd-aed3-0abf39f84b22"
      },
      "execution_count": null,
      "outputs": [
        {
          "output_type": "execute_result",
          "data": {
            "text/plain": [
              "True"
            ]
          },
          "metadata": {},
          "execution_count": 25
        }
      ]
    },
    {
      "cell_type": "code",
      "source": [
        "# Less than (<): Checks if the first number is less than the second.\n",
        "(a < b)"
      ],
      "metadata": {
        "colab": {
          "base_uri": "https://localhost:8080/"
        },
        "id": "20TCpDdWiTMx",
        "outputId": "cfeae713-a70f-413e-e77b-651ebaaf7b63"
      },
      "execution_count": null,
      "outputs": [
        {
          "output_type": "execute_result",
          "data": {
            "text/plain": [
              "False"
            ]
          },
          "metadata": {},
          "execution_count": 26
        }
      ]
    },
    {
      "cell_type": "code",
      "source": [
        "# Greater than or equal to (>=): Checks if the first number is greater than or equal to the second.\n",
        "(a >= b)"
      ],
      "metadata": {
        "colab": {
          "base_uri": "https://localhost:8080/"
        },
        "id": "OjBOH3nRiZiV",
        "outputId": "e4242207-4464-4287-da31-cec029c5e083"
      },
      "execution_count": null,
      "outputs": [
        {
          "output_type": "execute_result",
          "data": {
            "text/plain": [
              "True"
            ]
          },
          "metadata": {},
          "execution_count": 27
        }
      ]
    },
    {
      "cell_type": "code",
      "source": [
        "# Less than or equal to (<=): Checks if the first number is less than or equal to the second.\n",
        "(a <= b)"
      ],
      "metadata": {
        "colab": {
          "base_uri": "https://localhost:8080/"
        },
        "id": "DYdSjxk2ig5u",
        "outputId": "4a9866ea-3460-4d7f-e980-f3acd5d70bd2"
      },
      "execution_count": null,
      "outputs": [
        {
          "output_type": "execute_result",
          "data": {
            "text/plain": [
              "False"
            ]
          },
          "metadata": {},
          "execution_count": 28
        }
      ]
    },
    {
      "cell_type": "markdown",
      "source": [
        "\n",
        "\n",
        "---\n",
        "\n"
      ],
      "metadata": {
        "id": "xsA1GuZNGE7o"
      }
    },
    {
      "cell_type": "markdown",
      "source": [
        "\n",
        "# **Common Escape Characters**\n"
      ],
      "metadata": {
        "id": "O7KIWM7Ok1vh"
      }
    },
    {
      "cell_type": "code",
      "source": [
        "#1) \\n: Newline (Line break)\n",
        "print(\"Hello\\nWorld\")"
      ],
      "metadata": {
        "colab": {
          "base_uri": "https://localhost:8080/"
        },
        "id": "e6Ymo8h7k6zo",
        "outputId": "4b20f6a3-d03f-4098-ee7a-36b04c77dfec"
      },
      "execution_count": null,
      "outputs": [
        {
          "output_type": "stream",
          "name": "stdout",
          "text": [
            "Hello\n",
            "World\n"
          ]
        }
      ]
    },
    {
      "cell_type": "code",
      "source": [
        "#2) \\t: Tab (Horizontal tab)\n",
        "print(\"Hello\\tWorld\")"
      ],
      "metadata": {
        "colab": {
          "base_uri": "https://localhost:8080/"
        },
        "id": "QEuhqgqBlSjK",
        "outputId": "ac1444a4-b317-4fe5-d2af-e91743013412"
      },
      "execution_count": null,
      "outputs": [
        {
          "output_type": "stream",
          "name": "stdout",
          "text": [
            "Hello\tWorld\n"
          ]
        }
      ]
    },
    {
      "cell_type": "code",
      "source": [
        "#3) \\\\: Backslash\n",
        "print(\"C:\\\\Users\\\\Name\")"
      ],
      "metadata": {
        "colab": {
          "base_uri": "https://localhost:8080/"
        },
        "id": "ZTtJKlTZldkk",
        "outputId": "bfbe3edf-70cd-4d64-88aa-e8e5d6f9cce6"
      },
      "execution_count": null,
      "outputs": [
        {
          "output_type": "stream",
          "name": "stdout",
          "text": [
            "C:\\Users\\Name\n"
          ]
        }
      ]
    },
    {
      "cell_type": "code",
      "source": [
        "#4) \\': Single quote (used inside a string that is enclosed in single quotes)\n",
        "print('It\\'s a beautiful day!')"
      ],
      "metadata": {
        "colab": {
          "base_uri": "https://localhost:8080/"
        },
        "id": "qespb-Y9ljeU",
        "outputId": "55b16aa5-6d89-4e3e-8938-d7e24c435a99"
      },
      "execution_count": null,
      "outputs": [
        {
          "output_type": "stream",
          "name": "stdout",
          "text": [
            "It's a beautiful day!\n"
          ]
        }
      ]
    },
    {
      "cell_type": "code",
      "source": [
        "#5) \\r: Carriage return (moves the cursor to the beginning of the line)\n",
        "print(\"Hello\\rWorld\")"
      ],
      "metadata": {
        "colab": {
          "base_uri": "https://localhost:8080/"
        },
        "id": "AXcUUoUJmC4Z",
        "outputId": "7f97fbc8-3c3e-4d41-a1c1-a6a5d68123c0"
      },
      "execution_count": null,
      "outputs": [
        {
          "output_type": "stream",
          "name": "stdout",
          "text": [
            "Hello\rWorld\n"
          ]
        }
      ]
    },
    {
      "cell_type": "markdown",
      "source": [
        "\n",
        "\n",
        "---\n",
        "\n"
      ],
      "metadata": {
        "id": "GGYlUDEaGHdi"
      }
    },
    {
      "cell_type": "markdown",
      "source": [
        "#**operations on strings**"
      ],
      "metadata": {
        "id": "GIDJVNqPmjs9"
      }
    },
    {
      "cell_type": "markdown",
      "source": [
        " 1. Concatenation (+):\n"
      ],
      "metadata": {
        "id": "Tn2_d0uBn1bW"
      }
    },
    {
      "cell_type": "code",
      "source": [
        "# The + operator is used to concatenate (join) two or more strings together.\n",
        "str1 = \"Hello\"\n",
        "str2 = \"World\"\n",
        "result = str1 + \" \" + str2\n",
        "print(result)"
      ],
      "metadata": {
        "colab": {
          "base_uri": "https://localhost:8080/"
        },
        "id": "AmaitNAZnpKP",
        "outputId": "c2830f2b-c652-43e0-eb71-3b47d5966cf2"
      },
      "execution_count": null,
      "outputs": [
        {
          "output_type": "stream",
          "name": "stdout",
          "text": [
            "Hello World\n"
          ]
        }
      ]
    },
    {
      "cell_type": "markdown",
      "source": [
        "2. Repetition (*):"
      ],
      "metadata": {
        "id": "82OZ2nCKn5lG"
      }
    },
    {
      "cell_type": "code",
      "source": [
        "# The * operator is used to repeat a string a specified number of times.\n",
        "str1 = \"Hello\"\n",
        "result = str1 * 3\n",
        "print(result)"
      ],
      "metadata": {
        "colab": {
          "base_uri": "https://localhost:8080/"
        },
        "id": "HZzJDYVuntr8",
        "outputId": "66a59942-db84-4957-b7c1-4a1ef5368880"
      },
      "execution_count": null,
      "outputs": [
        {
          "output_type": "stream",
          "name": "stdout",
          "text": [
            "HelloHelloHello\n"
          ]
        }
      ]
    },
    {
      "cell_type": "markdown",
      "source": [
        "3. Membership (in and not in):\n",
        "\n",
        "  These operators are used to check if a substring exists within a string or not.\n",
        "\n"
      ],
      "metadata": {
        "id": "0ogC4uJuogxI"
      }
    },
    {
      "cell_type": "code",
      "source": [
        "# in: Returns True if the substring is found in the string.\n",
        "str1 = \"Hello, World!\"\n",
        "result = \"World\" in str1\n",
        "print(result)"
      ],
      "metadata": {
        "colab": {
          "base_uri": "https://localhost:8080/"
        },
        "id": "caAmrFUEoJlJ",
        "outputId": "5750a479-ad56-48f6-dec0-6424b23231dc"
      },
      "execution_count": null,
      "outputs": [
        {
          "output_type": "stream",
          "name": "stdout",
          "text": [
            "True\n"
          ]
        }
      ]
    },
    {
      "cell_type": "code",
      "source": [
        "# not in: Returns True if the substring is not found in the string.\n",
        "result = \"Python\" not in str1\n",
        "print(result)"
      ],
      "metadata": {
        "colab": {
          "base_uri": "https://localhost:8080/"
        },
        "id": "ygwCMEboo2Gs",
        "outputId": "a29ad938-c10c-4950-a99d-c2df12e4b421"
      },
      "execution_count": null,
      "outputs": [
        {
          "output_type": "stream",
          "name": "stdout",
          "text": [
            "True\n"
          ]
        }
      ]
    },
    {
      "cell_type": "markdown",
      "source": [
        "4. Comparison Operators (==, !=, <, >, <=, >=):\n",
        "  \n",
        "  You can use comparison operators to compare strings. Python compares strings lexicographically (based on the Unicode value of characters)."
      ],
      "metadata": {
        "id": "5PVpnJQnpIjW"
      }
    },
    {
      "cell_type": "code",
      "source": [
        "str1 = \"apple\"\n",
        "str2 = \"banana\""
      ],
      "metadata": {
        "id": "sPuLE0_sq9md"
      },
      "execution_count": null,
      "outputs": []
    },
    {
      "cell_type": "code",
      "source": [
        "# ==: Checks if two strings are equal.\n",
        "(str1 == str2)"
      ],
      "metadata": {
        "colab": {
          "base_uri": "https://localhost:8080/"
        },
        "id": "zNbBKIv6pK_5",
        "outputId": "a9d7c20e-25fe-4645-d323-e0f8c33797a1"
      },
      "execution_count": null,
      "outputs": [
        {
          "output_type": "execute_result",
          "data": {
            "text/plain": [
              "False"
            ]
          },
          "metadata": {},
          "execution_count": 39
        }
      ]
    },
    {
      "cell_type": "code",
      "source": [
        "# !=: Checks if two strings are not equal.\n",
        "(str1 != str2)"
      ],
      "metadata": {
        "colab": {
          "base_uri": "https://localhost:8080/"
        },
        "id": "ZitAbYuMrBWs",
        "outputId": "48851284-dd92-4bb3-972a-81a6be7da3c2"
      },
      "execution_count": null,
      "outputs": [
        {
          "output_type": "execute_result",
          "data": {
            "text/plain": [
              "True"
            ]
          },
          "metadata": {},
          "execution_count": 40
        }
      ]
    },
    {
      "cell_type": "code",
      "source": [
        "# <: Checks if one string is lexicographically less than another.\n",
        "(str1 < str2)"
      ],
      "metadata": {
        "colab": {
          "base_uri": "https://localhost:8080/"
        },
        "id": "bXhj2hNdrK_u",
        "outputId": "409c2fca-868b-42db-ad9b-8bdf0c504cf4"
      },
      "execution_count": null,
      "outputs": [
        {
          "output_type": "execute_result",
          "data": {
            "text/plain": [
              "True"
            ]
          },
          "metadata": {},
          "execution_count": 41
        }
      ]
    },
    {
      "cell_type": "code",
      "source": [
        "# >: Checks if one string is lexicographically greater than another.\n",
        "(str1 > str2)"
      ],
      "metadata": {
        "colab": {
          "base_uri": "https://localhost:8080/"
        },
        "id": "jA_hJPAwrVs3",
        "outputId": "11c64573-0539-4ad0-8a81-a57fa9790629"
      },
      "execution_count": null,
      "outputs": [
        {
          "output_type": "execute_result",
          "data": {
            "text/plain": [
              "False"
            ]
          },
          "metadata": {},
          "execution_count": 42
        }
      ]
    },
    {
      "cell_type": "code",
      "source": [
        "# <=: Checks if one string is lexicographically less than or equal to another.\n",
        "(str1 <= str2)"
      ],
      "metadata": {
        "colab": {
          "base_uri": "https://localhost:8080/"
        },
        "id": "0WvkoxtfreZz",
        "outputId": "485f4c81-5a77-4c80-cc1d-3bff8c9726a7"
      },
      "execution_count": null,
      "outputs": [
        {
          "output_type": "execute_result",
          "data": {
            "text/plain": [
              "True"
            ]
          },
          "metadata": {},
          "execution_count": 43
        }
      ]
    },
    {
      "cell_type": "code",
      "source": [
        "# >=: Checks if one string is lexicographically greater than or equal to another.\n",
        "(str1 >= str2)"
      ],
      "metadata": {
        "colab": {
          "base_uri": "https://localhost:8080/"
        },
        "id": "88pJq5ElroEh",
        "outputId": "060101a0-e8fc-4a4c-9ce6-4308b0d1586c"
      },
      "execution_count": null,
      "outputs": [
        {
          "output_type": "execute_result",
          "data": {
            "text/plain": [
              "False"
            ]
          },
          "metadata": {},
          "execution_count": 44
        }
      ]
    },
    {
      "cell_type": "markdown",
      "source": [
        "5. Indexing ([]):\n",
        "  \n",
        "  Strings are indexed starting from 0. You can access individual characters of a string using the indexing operator."
      ],
      "metadata": {
        "id": "kaKgdHWErxb2"
      }
    },
    {
      "cell_type": "code",
      "source": [
        "str1 = \"Hello\"\n",
        "result = str1[1]\n",
        "print(result)"
      ],
      "metadata": {
        "colab": {
          "base_uri": "https://localhost:8080/"
        },
        "id": "B-BVDR_JruSJ",
        "outputId": "af369ee4-31af-420c-f0bd-a2d6a49987fe"
      },
      "execution_count": null,
      "outputs": [
        {
          "output_type": "stream",
          "name": "stdout",
          "text": [
            "e\n"
          ]
        }
      ]
    },
    {
      "cell_type": "code",
      "source": [
        "str1 = \"Hello\"\n",
        "result = str1[-1]\n",
        "print(result)"
      ],
      "metadata": {
        "colab": {
          "base_uri": "https://localhost:8080/"
        },
        "id": "JReNOX4Zr3LL",
        "outputId": "ad711599-a3bf-4bf4-a955-8145a4159f29"
      },
      "execution_count": null,
      "outputs": [
        {
          "output_type": "stream",
          "name": "stdout",
          "text": [
            "o\n"
          ]
        }
      ]
    },
    {
      "cell_type": "code",
      "source": [
        "str1 = \"Hello\"\n",
        "result = str1[-2]\n",
        "print(result)"
      ],
      "metadata": {
        "colab": {
          "base_uri": "https://localhost:8080/"
        },
        "id": "CofjatdMsK41",
        "outputId": "29be3db5-95c2-4fb0-cfc1-0ba5518513bd"
      },
      "execution_count": null,
      "outputs": [
        {
          "output_type": "stream",
          "name": "stdout",
          "text": [
            "l\n"
          ]
        }
      ]
    },
    {
      "cell_type": "code",
      "source": [
        "str1 = \"Hello\"\n",
        "result = str1[0]\n",
        "print(result)"
      ],
      "metadata": {
        "colab": {
          "base_uri": "https://localhost:8080/"
        },
        "id": "j8fbyyN5sO8d",
        "outputId": "1e633a62-2751-4b02-ad28-4524df81e736"
      },
      "execution_count": null,
      "outputs": [
        {
          "output_type": "stream",
          "name": "stdout",
          "text": [
            "H\n"
          ]
        }
      ]
    },
    {
      "cell_type": "markdown",
      "source": [
        "6. **Slicing (`[start:end:step]`):**\n",
        "\n",
        "  You can extract a portion of a string using slicing. This allows you to specify a start index and an end index. You can also use a step to skip characters."
      ],
      "metadata": {
        "id": "Gg8hN3IYwRHY"
      }
    },
    {
      "cell_type": "code",
      "source": [
        "str1 = \"Hello, World!\"\n",
        "result = str1[7:12]\n",
        "print(result)"
      ],
      "metadata": {
        "colab": {
          "base_uri": "https://localhost:8080/"
        },
        "id": "xNlXEYQ9u_Hf",
        "outputId": "257cae8c-56e0-4ff0-db7f-f0426a04fa2a"
      },
      "execution_count": null,
      "outputs": [
        {
          "output_type": "stream",
          "name": "stdout",
          "text": [
            "World\n"
          ]
        }
      ]
    },
    {
      "cell_type": "code",
      "source": [
        "result = str1[::2]\n",
        "print(result)"
      ],
      "metadata": {
        "colab": {
          "base_uri": "https://localhost:8080/"
        },
        "id": "Om6ty7h8wVph",
        "outputId": "3381f272-8b6c-46b8-dcfc-7a253418155b"
      },
      "execution_count": null,
      "outputs": [
        {
          "output_type": "stream",
          "name": "stdout",
          "text": [
            "Hlo ol!\n"
          ]
        }
      ]
    },
    {
      "cell_type": "code",
      "source": [
        "result = str1[2::2]\n",
        "print(result)"
      ],
      "metadata": {
        "colab": {
          "base_uri": "https://localhost:8080/"
        },
        "id": "0eSX0Zocwjnw",
        "outputId": "ccd90bc3-0a08-4c72-836f-4359ca02ae49"
      },
      "execution_count": null,
      "outputs": [
        {
          "output_type": "stream",
          "name": "stdout",
          "text": [
            "lo ol!\n"
          ]
        }
      ]
    },
    {
      "cell_type": "code",
      "source": [
        "result = str1[4:]\n",
        "print(result)"
      ],
      "metadata": {
        "colab": {
          "base_uri": "https://localhost:8080/"
        },
        "id": "xOjvClEJwt91",
        "outputId": "9296f359-3a69-4870-fc6d-38065f932778"
      },
      "execution_count": null,
      "outputs": [
        {
          "output_type": "stream",
          "name": "stdout",
          "text": [
            "o, World!\n"
          ]
        }
      ]
    },
    {
      "cell_type": "code",
      "source": [
        "result = str1[:-2]\n",
        "print(result)"
      ],
      "metadata": {
        "colab": {
          "base_uri": "https://localhost:8080/"
        },
        "id": "3J01lnqrw1tO",
        "outputId": "d511b4dc-c2a6-47ba-de39-d4707f8f61d9"
      },
      "execution_count": null,
      "outputs": [
        {
          "output_type": "stream",
          "name": "stdout",
          "text": [
            "Hello, Worl\n"
          ]
        }
      ]
    },
    {
      "cell_type": "code",
      "source": [
        "result = str1[:-2:2]\n",
        "print(result)"
      ],
      "metadata": {
        "colab": {
          "base_uri": "https://localhost:8080/"
        },
        "id": "Zxpv8eG_w6Te",
        "outputId": "138bd0f8-54de-40b5-f5f9-bf5d49755ca4"
      },
      "execution_count": null,
      "outputs": [
        {
          "output_type": "stream",
          "name": "stdout",
          "text": [
            "Hlo ol\n"
          ]
        }
      ]
    },
    {
      "cell_type": "markdown",
      "source": [
        "7. **String Length (len()):**\n",
        "\n",
        "  The len() function returns the length of the string.\n",
        "\n"
      ],
      "metadata": {
        "id": "xN5AGsWLxHVG"
      }
    },
    {
      "cell_type": "code",
      "source": [
        "str1 = \"Hello\"\n",
        "result = len(str1)\n",
        "print(result)"
      ],
      "metadata": {
        "colab": {
          "base_uri": "https://localhost:8080/"
        },
        "id": "McYgCKFWw-Kk",
        "outputId": "e22666a5-df68-4942-ac0a-f42d0869d37b"
      },
      "execution_count": null,
      "outputs": [
        {
          "output_type": "stream",
          "name": "stdout",
          "text": [
            "5\n"
          ]
        }
      ]
    },
    {
      "cell_type": "markdown",
      "source": [
        "8. **String Formatting (% and .format()):**\n",
        "\n",
        "  You can format strings using the % operator or the .format() method."
      ],
      "metadata": {
        "id": "D_2H0QivxPzH"
      }
    },
    {
      "cell_type": "code",
      "source": [
        "# % Operator (older style):\n",
        "name = \"John\"\n",
        "age = 25\n",
        "result = \"My name is %s and I am %d years old.\" % (name, age)\n",
        "print(result)\n"
      ],
      "metadata": {
        "colab": {
          "base_uri": "https://localhost:8080/"
        },
        "id": "SlA5WCCNxNYU",
        "outputId": "566253a0-da1d-42c4-b2b7-d29075f1dcbd"
      },
      "execution_count": null,
      "outputs": [
        {
          "output_type": "stream",
          "name": "stdout",
          "text": [
            "My name is John and I am 25 years old.\n"
          ]
        }
      ]
    },
    {
      "cell_type": "code",
      "source": [
        "# .format() Method (more modern):\n",
        "result = \"My name is {} and I am {} years old.\".format(name, age)\n",
        "print(result)"
      ],
      "metadata": {
        "colab": {
          "base_uri": "https://localhost:8080/"
        },
        "id": "qLVO570MxYaI",
        "outputId": "5e71776b-fa38-4735-a135-ce9aea16a591"
      },
      "execution_count": null,
      "outputs": [
        {
          "output_type": "stream",
          "name": "stdout",
          "text": [
            "My name is John and I am 25 years old.\n"
          ]
        }
      ]
    },
    {
      "cell_type": "code",
      "source": [
        "# f-strings (Introduced in Python 3.6):\n",
        "result = f\"My name is {name} and I am {age} years old.\"\n",
        "print(result)"
      ],
      "metadata": {
        "colab": {
          "base_uri": "https://localhost:8080/"
        },
        "id": "3m5CI5KNxctD",
        "outputId": "f3be8edd-1a49-4028-d844-1ba2151d8064"
      },
      "execution_count": null,
      "outputs": [
        {
          "output_type": "stream",
          "name": "stdout",
          "text": [
            "My name is John and I am 25 years old.\n"
          ]
        }
      ]
    },
    {
      "cell_type": "code",
      "source": [
        "price = 59\n",
        "txt = f\"The price is {price:.2f} dollors\"\n",
        "print(txt)"
      ],
      "metadata": {
        "colab": {
          "base_uri": "https://localhost:8080/"
        },
        "id": "3di5WkIdxnyo",
        "outputId": "a2c01054-f2d3-4bdf-d857-72bdb8deabb8"
      },
      "execution_count": null,
      "outputs": [
        {
          "output_type": "stream",
          "name": "stdout",
          "text": [
            "The price is 59.00 dollors\n"
          ]
        }
      ]
    },
    {
      "cell_type": "markdown",
      "source": [
        "# **Split**\n",
        "\n",
        "  The `split()` method is used to divide a string into a list of substrings based on a specified separator. If no separator is provided, it defaults to splitting by any whitespace (spaces, tabs, newlines, etc.).\n",
        "\n",
        "  Syntax: string.split(separator, maxsplit)\n",
        "\n",
        "  separator: The delimiter string that determines where the split should occur. If not specified, any whitespace is used.\n",
        "\n",
        "\n",
        "  maxsplit: Optional. Specifies the maximum number of splits. If not specified, all occurrences are split."
      ],
      "metadata": {
        "id": "vk1IZAk4SLUI"
      }
    },
    {
      "cell_type": "code",
      "source": [
        "# 1. Splitting by Whitespace (Default Behavior)\n",
        "text = \"Hello world, welcome to Python!\"\n",
        "# The string is split by spaces. Each word is separated into a list.\n",
        "result = text.split()\n",
        "print(result)"
      ],
      "metadata": {
        "colab": {
          "base_uri": "https://localhost:8080/"
        },
        "id": "RgkR04X1S9I7",
        "outputId": "c90588a9-b44c-433d-ebc4-ea11f1f8d765"
      },
      "execution_count": null,
      "outputs": [
        {
          "output_type": "stream",
          "name": "stdout",
          "text": [
            "['Hello', 'world,', 'welcome', 'to', 'Python!']\n"
          ]
        }
      ]
    },
    {
      "cell_type": "code",
      "source": [
        "# 2. Splitting by a Specific Separator\n",
        "text = \"apple,orange,banana,grape\"\n",
        "# The string is split at every comma (,), and each fruit is placed into the resulting list.\n",
        "result = text.split(\",\")\n",
        "print(result)"
      ],
      "metadata": {
        "colab": {
          "base_uri": "https://localhost:8080/"
        },
        "id": "-r86fYXiTP9f",
        "outputId": "d7477202-f6af-4ab1-d478-e820a08a9e08"
      },
      "execution_count": null,
      "outputs": [
        {
          "output_type": "stream",
          "name": "stdout",
          "text": [
            "['apple', 'orange', 'banana', 'grape']\n"
          ]
        }
      ]
    },
    {
      "cell_type": "code",
      "source": [
        "# 3. Splitting with a Limit on Number of Splits (maxsplit)\n",
        "text = \"apple orange banana grape\"\n",
        "# In this case, the string is split by spaces, but only two splits are made, so the last part contains \"banana grape.\"\n",
        "result = text.split(\" \", 2)\n",
        "print(result)"
      ],
      "metadata": {
        "colab": {
          "base_uri": "https://localhost:8080/"
        },
        "id": "aumK5MPlTdsg",
        "outputId": "3bfc417a-344d-4f8d-b898-8d0d19199af8"
      },
      "execution_count": null,
      "outputs": [
        {
          "output_type": "stream",
          "name": "stdout",
          "text": [
            "['apple', 'orange', 'banana grape']\n"
          ]
        }
      ]
    },
    {
      "cell_type": "code",
      "source": [
        "# 4. Splitting by Multiple Spaces or Different Whitespace Characters\n",
        "text = \"apple   orange\\tbanana\\ngrape\"\n",
        "# The default split() method will ignore multiple spaces, tabs, and newlines.\n",
        "result = text.split()\n",
        "print(result)"
      ],
      "metadata": {
        "colab": {
          "base_uri": "https://localhost:8080/"
        },
        "id": "jLd9626wTkhk",
        "outputId": "c51ab4b8-1471-44f2-e18b-6a9588c3e125"
      },
      "execution_count": null,
      "outputs": [
        {
          "output_type": "stream",
          "name": "stdout",
          "text": [
            "['apple', 'orange', 'banana', 'grape']\n"
          ]
        }
      ]
    },
    {
      "cell_type": "markdown",
      "source": [
        "# **Strip**\n",
        "  In Python, the `strip()` method is used to remove leading and trailing characters (by default, whitespace) from a string. It is useful for cleaning up input or formatted strings.\n",
        "\n"
      ],
      "metadata": {
        "id": "iyxXEAjk6nLU"
      }
    },
    {
      "cell_type": "markdown",
      "source": [
        "**Syntax:**  `string.strip([chars])`\n",
        "\n",
        "`chars` (optional): A string specifying a set of characters to be removed from the start and end of the string. If omitted, it defaults to removing all types of whitespace (spaces, tabs, newlines, etc.)."
      ],
      "metadata": {
        "id": "sSPbMeXT6v4z"
      }
    },
    {
      "cell_type": "code",
      "source": [
        "# 1) Removing Whitespace (Default Behavior)\n",
        "text = \"   Hello, World!   \"\n",
        "result = text.strip()\n",
        "print(result)"
      ],
      "metadata": {
        "colab": {
          "base_uri": "https://localhost:8080/"
        },
        "id": "ehbgCIYY7XvN",
        "outputId": "45e5a922-6fbc-4c09-bc33-ddc9f88af57d"
      },
      "execution_count": null,
      "outputs": [
        {
          "output_type": "stream",
          "name": "stdout",
          "text": [
            "Hello, World!\n"
          ]
        }
      ]
    },
    {
      "cell_type": "code",
      "source": [
        "# 2) Removing Specific Characters\n",
        "text = \"!!Hello, World!!\"\n",
        "result = text.strip(\"!\")\n",
        "print(result)"
      ],
      "metadata": {
        "colab": {
          "base_uri": "https://localhost:8080/"
        },
        "id": "igjH7x9W7q2j",
        "outputId": "b0949d62-a57b-4a29-d846-1f61ef9a886b"
      },
      "execution_count": null,
      "outputs": [
        {
          "output_type": "stream",
          "name": "stdout",
          "text": [
            "Hello, World\n"
          ]
        }
      ]
    },
    {
      "cell_type": "code",
      "source": [
        "# 3) Removing Multiple Characters\n",
        "text = \"xyzHello, Worldzyx\"\n",
        "result = text.strip(\"xyz\")\n",
        "print(result)"
      ],
      "metadata": {
        "colab": {
          "base_uri": "https://localhost:8080/"
        },
        "id": "9B4QXokd7yu7",
        "outputId": "f6d875a3-b4be-40c1-ff0c-36a1032738cb"
      },
      "execution_count": null,
      "outputs": [
        {
          "output_type": "stream",
          "name": "stdout",
          "text": [
            "Hello, World\n"
          ]
        }
      ]
    },
    {
      "cell_type": "markdown",
      "source": [
        "`lstrip()` removes characters from the start of the string only.\n",
        "\n",
        "`rstrip() `removes characters from the end of the string only."
      ],
      "metadata": {
        "id": "sHtaDECK7-KT"
      }
    },
    {
      "cell_type": "code",
      "source": [
        "# 4) removes characters from the right side or the left side of the string\n",
        "text = \"   Hello, World!   \"\n",
        "\n",
        "# Remove leading spaces\n",
        "result_left = text.lstrip()\n",
        "print(result_left)\n",
        "\n",
        "# Remove trailing spaces\n",
        "result_right = text.rstrip()\n",
        "print(result_right)"
      ],
      "metadata": {
        "colab": {
          "base_uri": "https://localhost:8080/"
        },
        "id": "xhxXWtaA8B4c",
        "outputId": "0eda09b5-4ef5-4c23-de48-a9e670fa54b7"
      },
      "execution_count": null,
      "outputs": [
        {
          "output_type": "stream",
          "name": "stdout",
          "text": [
            "Hello, World!   \n",
            "   Hello, World!\n"
          ]
        }
      ]
    },
    {
      "cell_type": "code",
      "source": [
        "# 5) Handling Newlines or Tabs\n",
        "text = \"\\n\\tHello, World!\\n\\t\"\n",
        "result = text.strip()\n",
        "print(result)"
      ],
      "metadata": {
        "colab": {
          "base_uri": "https://localhost:8080/"
        },
        "id": "1rAlElFr8MvM",
        "outputId": "1a9b1b1a-8c36-44b1-9dec-c79d5b7b9427"
      },
      "execution_count": null,
      "outputs": [
        {
          "output_type": "stream",
          "name": "stdout",
          "text": [
            "Hello, World!\n"
          ]
        }
      ]
    },
    {
      "cell_type": "markdown",
      "source": [
        "\n",
        "\n",
        "---\n",
        "\n"
      ],
      "metadata": {
        "id": "TJG37Am-7pcI"
      }
    },
    {
      "cell_type": "markdown",
      "source": [
        "# **Casting**\n",
        "\n",
        "  The process of converting a value from one data type to another. There are two types of casting"
      ],
      "metadata": {
        "id": "bjhxxoyYydVe"
      }
    },
    {
      "cell_type": "markdown",
      "source": [
        "  1. **Implicit Casting:**\n",
        "\n",
        "  Python automatically converts one data type to another when needed, like when you combine an integer and a float in an expression. For example:\n",
        "\n",
        "\n"
      ],
      "metadata": {
        "id": "yqg0Vc0AyoFa"
      }
    },
    {
      "cell_type": "code",
      "source": [
        "x = 5    # int\n",
        "y = 3.2  # float\n",
        "result = x + y  # Python automatically converts x to a float\n",
        "print(result)"
      ],
      "metadata": {
        "colab": {
          "base_uri": "https://localhost:8080/"
        },
        "id": "p8I0TsQ7ym3A",
        "outputId": "aec74237-a109-4603-a8ff-3de150a403d3"
      },
      "execution_count": null,
      "outputs": [
        {
          "output_type": "stream",
          "name": "stdout",
          "text": [
            "8.2\n"
          ]
        }
      ]
    },
    {
      "cell_type": "markdown",
      "source": [
        "  2. **Explicit Casting**\n",
        "  \n",
        "  With explicit casting, you can manually convert one data type to another. You use functions like `int()`, `float()`, `str()`, etc., to do this."
      ],
      "metadata": {
        "id": "CehG0gWDy1nt"
      }
    },
    {
      "cell_type": "code",
      "source": [
        "#1) int(): Converts a float or string to an integer.\n",
        "x = 7.5\n",
        "result = int(x)  # Converts float to int, truncating the decimal part\n",
        "print(result)"
      ],
      "metadata": {
        "colab": {
          "base_uri": "https://localhost:8080/"
        },
        "id": "GBwf1OwTyyhp",
        "outputId": "0cdef3b3-836f-46a6-d8f5-219774417d83"
      },
      "execution_count": null,
      "outputs": [
        {
          "output_type": "stream",
          "name": "stdout",
          "text": [
            "7\n"
          ]
        }
      ]
    },
    {
      "cell_type": "code",
      "source": [
        "#2) float(): Converts an integer or string to a float.\n",
        "x = 5\n",
        "result = float(x)  # Converts int to float\n",
        "print(result)"
      ],
      "metadata": {
        "colab": {
          "base_uri": "https://localhost:8080/"
        },
        "id": "l60d657YzLYc",
        "outputId": "71e9f7e9-c802-4098-9fce-72afcee6554f"
      },
      "execution_count": null,
      "outputs": [
        {
          "output_type": "stream",
          "name": "stdout",
          "text": [
            "5.0\n"
          ]
        }
      ]
    },
    {
      "cell_type": "code",
      "source": [
        "#3) str(): Converts any data type to a string.\n",
        "x = 10\n",
        "result = str(x)  # Converts integer to string\n",
        "print(\"my number is \" + result) # we can only concatenate strings to other strings."
      ],
      "metadata": {
        "colab": {
          "base_uri": "https://localhost:8080/"
        },
        "id": "ul8yP1NNzR8z",
        "outputId": "3331b8ca-fc2a-4cb6-bf5f-3d5c5bf98c9b"
      },
      "execution_count": null,
      "outputs": [
        {
          "output_type": "stream",
          "name": "stdout",
          "text": [
            "my number is 10\n"
          ]
        }
      ]
    },
    {
      "cell_type": "code",
      "source": [
        "#4) You can also convert data types like lists, tuples, and dictionaries with the appropriate functions.\n",
        "x = [1, 2, 3]\n",
        "result = tuple(x)\n",
        "print(result)"
      ],
      "metadata": {
        "colab": {
          "base_uri": "https://localhost:8080/"
        },
        "id": "QPS_U0uNzYrr",
        "outputId": "f11dcf50-61a0-4a69-fd5e-89d97fd46f6c"
      },
      "execution_count": null,
      "outputs": [
        {
          "output_type": "stream",
          "name": "stdout",
          "text": [
            "(1, 2, 3)\n"
          ]
        }
      ]
    },
    {
      "cell_type": "markdown",
      "source": [
        "---"
      ],
      "metadata": {
        "id": "dFP3ZYdYT6mA"
      }
    },
    {
      "cell_type": "markdown",
      "source": [
        "# **list in python**\n",
        "\n",
        "A list in Python is a versatile, ordered collection of elements that can hold items of different data types."
      ],
      "metadata": {
        "id": "2MfY9nSKF72M"
      }
    },
    {
      "cell_type": "markdown",
      "source": [
        "Key Features of Lists:\n",
        "1. Ordered: Elements maintain the order they are added in.\n",
        "2. Indexed: Elements can be accessed using their index (starting at 0).\n",
        "3. Heterogeneous: A list can store elements of different data types.\n",
        "4. Mutable: You can modify the contents of a list after creation.\n"
      ],
      "metadata": {
        "id": "-HiClIMDGuhb"
      }
    },
    {
      "cell_type": "markdown",
      "source": [
        "### -> Creating a List:\n"
      ],
      "metadata": {
        "id": "MX8EGKwYG5BD"
      }
    },
    {
      "cell_type": "code",
      "source": [
        "# 1) Basic List:\n",
        "fruits = [\"apple\", \"banana\", \"cherry\"]\n",
        "print(fruits)"
      ],
      "metadata": {
        "colab": {
          "base_uri": "https://localhost:8080/"
        },
        "id": "llZ-H_X1GV_k",
        "outputId": "9d97750b-909a-4e95-a7ef-10c32bef0622"
      },
      "execution_count": null,
      "outputs": [
        {
          "output_type": "stream",
          "name": "stdout",
          "text": [
            "['apple', 'banana', 'cherry']\n"
          ]
        }
      ]
    },
    {
      "cell_type": "code",
      "source": [
        "# 2) Empty List:\n",
        "empty_list = []\n",
        "print(empty_list)"
      ],
      "metadata": {
        "colab": {
          "base_uri": "https://localhost:8080/"
        },
        "id": "s1GkX3DyHAVe",
        "outputId": "0438da2f-e708-4da2-a7d1-5cc1c7911482"
      },
      "execution_count": null,
      "outputs": [
        {
          "output_type": "stream",
          "name": "stdout",
          "text": [
            "[]\n"
          ]
        }
      ]
    },
    {
      "cell_type": "code",
      "source": [
        "# 3) Mixed Data Types:\n",
        "mixed = [1, \"hello\", 3.14, True]\n",
        "print(mixed)"
      ],
      "metadata": {
        "colab": {
          "base_uri": "https://localhost:8080/"
        },
        "id": "00rJVYcmHHIe",
        "outputId": "5620740d-1c69-4062-a48f-58e4639d7097"
      },
      "execution_count": null,
      "outputs": [
        {
          "output_type": "stream",
          "name": "stdout",
          "text": [
            "[1, 'hello', 3.14, True]\n"
          ]
        }
      ]
    },
    {
      "cell_type": "code",
      "source": [
        "# 4) Using the list() Constructor:\n",
        "numbers = list((1, 2, 3))\n",
        "print(numbers)"
      ],
      "metadata": {
        "colab": {
          "base_uri": "https://localhost:8080/"
        },
        "id": "dJPqxds4HLlr",
        "outputId": "74757faa-d27a-428d-f41c-0cf37ee16dd1"
      },
      "execution_count": null,
      "outputs": [
        {
          "output_type": "stream",
          "name": "stdout",
          "text": [
            "[1, 2, 3]\n"
          ]
        }
      ]
    },
    {
      "cell_type": "markdown",
      "source": [
        "### -> Accessing Elements:"
      ],
      "metadata": {
        "id": "l2_gBsN3HZys"
      }
    },
    {
      "cell_type": "code",
      "source": [
        "# 1) By Index:\n",
        "fruits = [\"apple\", \"banana\", \"cherry\"]\n",
        "print(fruits[0])\n",
        "print(fruits[-1])"
      ],
      "metadata": {
        "colab": {
          "base_uri": "https://localhost:8080/"
        },
        "id": "Cx0nai1VHRmm",
        "outputId": "aac1b84a-35db-4506-fae0-42cbfe45ef02"
      },
      "execution_count": null,
      "outputs": [
        {
          "output_type": "stream",
          "name": "stdout",
          "text": [
            "apple\n",
            "cherry\n"
          ]
        }
      ]
    },
    {
      "cell_type": "code",
      "source": [
        "# 2) Slicing:\n",
        "print(fruits[1:3])\n",
        "print(fruits[:2])\n",
        "print(fruits[1:])\n",
        "print(fruits[:])\n",
        "print(fruits[:-1])"
      ],
      "metadata": {
        "colab": {
          "base_uri": "https://localhost:8080/"
        },
        "id": "yPQZDd1eHkb2",
        "outputId": "703aeaf7-02ad-4a3e-c8db-a28614b39d6b"
      },
      "execution_count": null,
      "outputs": [
        {
          "output_type": "stream",
          "name": "stdout",
          "text": [
            "['banana', 'cherry']\n",
            "['apple', 'banana']\n",
            "['banana', 'cherry']\n",
            "['apple', 'banana', 'cherry']\n",
            "['apple', 'banana']\n"
          ]
        }
      ]
    },
    {
      "cell_type": "markdown",
      "source": [
        "## Common List Operations:"
      ],
      "metadata": {
        "id": "Z-ITIDRnIPqb"
      }
    },
    {
      "cell_type": "markdown",
      "source": [
        "### 1. Adding Elements:"
      ],
      "metadata": {
        "id": "Rt1JrbrcIwBg"
      }
    },
    {
      "cell_type": "code",
      "source": [
        "# append(): Add an element to the end.\n",
        "fruits.append(\"orange\")\n",
        "print(fruits)"
      ],
      "metadata": {
        "colab": {
          "base_uri": "https://localhost:8080/"
        },
        "id": "xKo_mcq0Hr9B",
        "outputId": "c5fd5d79-6fa5-47ef-d3b2-93010a4e2529"
      },
      "execution_count": null,
      "outputs": [
        {
          "output_type": "stream",
          "name": "stdout",
          "text": [
            "['apple', 'banana', 'cherry', 'orange']\n"
          ]
        }
      ]
    },
    {
      "cell_type": "code",
      "source": [
        "# insert(): Insert an element at a specific position.\n",
        "fruits.insert(1, \"grape\")\n",
        "print(fruits)"
      ],
      "metadata": {
        "colab": {
          "base_uri": "https://localhost:8080/"
        },
        "id": "nmMEEx7cI11H",
        "outputId": "b7955334-0bd5-4621-ee1d-488aad9b868b"
      },
      "execution_count": null,
      "outputs": [
        {
          "output_type": "stream",
          "name": "stdout",
          "text": [
            "['apple', 'grape', 'banana', 'cherry', 'orange']\n"
          ]
        }
      ]
    },
    {
      "cell_type": "markdown",
      "source": [
        "### 2. Removing Elements:\n"
      ],
      "metadata": {
        "id": "SiYfkgrrI_jD"
      }
    },
    {
      "cell_type": "code",
      "source": [
        "# remove(): Remove a specific element.\n",
        "fruits.remove(\"banana\")\n",
        "print(fruits)"
      ],
      "metadata": {
        "colab": {
          "base_uri": "https://localhost:8080/"
        },
        "id": "C5G2dL36I6qw",
        "outputId": "4001cef8-8081-45ff-c3e6-20156324e870"
      },
      "execution_count": null,
      "outputs": [
        {
          "output_type": "stream",
          "name": "stdout",
          "text": [
            "['apple', 'grape', 'cherry', 'orange']\n"
          ]
        }
      ]
    },
    {
      "cell_type": "code",
      "source": [
        "# pop(): Remove an element by index (or the last element by default).\n",
        "fruits.pop(1)\n",
        "print(fruits)"
      ],
      "metadata": {
        "colab": {
          "base_uri": "https://localhost:8080/"
        },
        "id": "kP7MKwSEJF6b",
        "outputId": "130274de-d9df-4722-8bc7-14c0fa378de7"
      },
      "execution_count": null,
      "outputs": [
        {
          "output_type": "stream",
          "name": "stdout",
          "text": [
            "['apple', 'cherry', 'orange']\n"
          ]
        }
      ]
    },
    {
      "cell_type": "code",
      "source": [
        "# clear(): Remove all elements.\n",
        "fruits.clear()\n",
        "print(fruits)"
      ],
      "metadata": {
        "colab": {
          "base_uri": "https://localhost:8080/"
        },
        "id": "z8dpdas2JMcJ",
        "outputId": "93f0035b-7d1a-4e8c-8ef4-08e9047e1f33"
      },
      "execution_count": null,
      "outputs": [
        {
          "output_type": "stream",
          "name": "stdout",
          "text": [
            "[]\n"
          ]
        }
      ]
    },
    {
      "cell_type": "markdown",
      "source": [
        "### 3. Modifying Elements:"
      ],
      "metadata": {
        "id": "mevQOeNOJWVY"
      }
    },
    {
      "cell_type": "code",
      "source": [
        "fruits = [\"apple\", \"banana\", \"cherry\"]\n",
        "fruits[1] = \"blueberry\"\n",
        "print(fruits)"
      ],
      "metadata": {
        "colab": {
          "base_uri": "https://localhost:8080/"
        },
        "id": "40ORY65yJTCG",
        "outputId": "3e20cdaa-ff16-4c79-eb0e-587975d1e6dc"
      },
      "execution_count": null,
      "outputs": [
        {
          "output_type": "stream",
          "name": "stdout",
          "text": [
            "['apple', 'blueberry', 'cherry']\n"
          ]
        }
      ]
    },
    {
      "cell_type": "markdown",
      "source": [
        "### 4. Sorting:"
      ],
      "metadata": {
        "id": "-4PcoaEkJpCb"
      }
    },
    {
      "cell_type": "code",
      "source": [
        "# Ascending Order:\n",
        "fruits.sort()\n",
        "print(fruits)"
      ],
      "metadata": {
        "colab": {
          "base_uri": "https://localhost:8080/"
        },
        "id": "v4W44j0pJZSa",
        "outputId": "850f4430-6170-4338-edb9-e337ff4f24d7"
      },
      "execution_count": null,
      "outputs": [
        {
          "output_type": "stream",
          "name": "stdout",
          "text": [
            "['apple', 'blueberry', 'cherry']\n"
          ]
        }
      ]
    },
    {
      "cell_type": "code",
      "source": [
        "# Descending Order:\n",
        "fruits.sort(reverse=True)\n",
        "print(fruits)"
      ],
      "metadata": {
        "colab": {
          "base_uri": "https://localhost:8080/"
        },
        "id": "dXQOj_lzJu2a",
        "outputId": "d65a5766-3e22-46ec-bbfa-54f740152034"
      },
      "execution_count": null,
      "outputs": [
        {
          "output_type": "stream",
          "name": "stdout",
          "text": [
            "['cherry', 'blueberry', 'apple']\n"
          ]
        }
      ]
    },
    {
      "cell_type": "markdown",
      "source": [
        "### 5. Reversing:"
      ],
      "metadata": {
        "id": "nxRie8BLJ6ZG"
      }
    },
    {
      "cell_type": "code",
      "source": [
        "fruits.reverse()\n",
        "print(fruits)"
      ],
      "metadata": {
        "colab": {
          "base_uri": "https://localhost:8080/"
        },
        "id": "700KQAx5JzUs",
        "outputId": "12cbc201-3759-46ab-9e52-c13cb8127cd2"
      },
      "execution_count": null,
      "outputs": [
        {
          "output_type": "stream",
          "name": "stdout",
          "text": [
            "['apple', 'blueberry', 'cherry']\n"
          ]
        }
      ]
    },
    {
      "cell_type": "markdown",
      "source": [
        "### 6. Copying a List:"
      ],
      "metadata": {
        "id": "DXbzxWiqOGod"
      }
    },
    {
      "cell_type": "code",
      "source": [
        "# Using list slicing for shallow copy\n",
        "original_list = [1, 2, [3, 4]]\n",
        "shallow_copy = original_list[:]\n",
        "\n",
        "# Modifying the inner list in shallow_copy\n",
        "shallow_copy[2][0] = 100\n",
        "\n",
        "print(\"Original List:\", original_list)\n",
        "print(\"Shallow Copy:\", shallow_copy)"
      ],
      "metadata": {
        "colab": {
          "base_uri": "https://localhost:8080/"
        },
        "id": "6EKZmld-KMjx",
        "outputId": "b109d394-9dfb-4cb9-c757-91a66b1d671b"
      },
      "execution_count": null,
      "outputs": [
        {
          "output_type": "stream",
          "name": "stdout",
          "text": [
            "Original List: [1, 2, [100, 4]]\n",
            "Shallow Copy: [1, 2, [100, 4]]\n"
          ]
        }
      ]
    },
    {
      "cell_type": "markdown",
      "source": [
        "### 7. Iterating Through a List:"
      ],
      "metadata": {
        "id": "HstEHksdQfyg"
      }
    },
    {
      "cell_type": "code",
      "source": [
        "# 1. Using a for Loop:\n",
        "for fruit in fruits:\n",
        "    print(fruit)"
      ],
      "metadata": {
        "colab": {
          "base_uri": "https://localhost:8080/"
        },
        "id": "n69awQ4HQiD9",
        "outputId": "34416d58-bcde-4149-d159-1ff3b8f8adae"
      },
      "execution_count": null,
      "outputs": [
        {
          "output_type": "stream",
          "name": "stdout",
          "text": [
            "apple\n",
            "blueberry\n",
            "cherry\n"
          ]
        }
      ]
    },
    {
      "cell_type": "code",
      "source": [
        "# 2. Using enumerate():\n",
        "for index, fruit in enumerate(fruits):\n",
        "    print(index, fruit)"
      ],
      "metadata": {
        "colab": {
          "base_uri": "https://localhost:8080/"
        },
        "id": "SSxZdOVIQl5W",
        "outputId": "be53f408-a1b3-402f-9de9-be1d132e2c57"
      },
      "execution_count": null,
      "outputs": [
        {
          "output_type": "stream",
          "name": "stdout",
          "text": [
            "0 apple\n",
            "1 blueberry\n",
            "2 cherry\n"
          ]
        }
      ]
    },
    {
      "cell_type": "markdown",
      "source": [
        "### 8. lenght of a list:"
      ],
      "metadata": {
        "id": "iiKoLuzYQxqd"
      }
    },
    {
      "cell_type": "code",
      "source": [
        "# using len():\n",
        "length = len(fruits)\n",
        "print(length)"
      ],
      "metadata": {
        "colab": {
          "base_uri": "https://localhost:8080/"
        },
        "id": "ixI-uUd3Qsd_",
        "outputId": "eb03411a-19ee-42c7-fcc9-2992dfeedf17"
      },
      "execution_count": null,
      "outputs": [
        {
          "output_type": "stream",
          "name": "stdout",
          "text": [
            "3\n"
          ]
        }
      ]
    }
  ]
}
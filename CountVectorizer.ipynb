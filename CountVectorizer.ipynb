{
  "nbformat": 4,
  "nbformat_minor": 0,
  "metadata": {
    "colab": {
      "provenance": [],
      "authorship_tag": "ABX9TyMGTlrQ+CZjSyNo8fMiQWTB",
      "include_colab_link": false
    },
    "kernelspec": {
      "name": "python3",
      "display_name": "Python 3"
    },
    "language_info": {
      "name": "python"
    }
  },
  "cells": [
    {
      "cell_type": "markdown",
      "metadata": {
        "id": "view-in-github",
        "colab_type": "text"
      },
      "source": [
        "<a href=\"https://colab.research.google.com/github/baharkarami/Text-Mining-Class/blob/main/CountVectorizer.ipynb\" target=\"_parent\"><img src=\"https://colab.research.google.com/assets/colab-badge.svg\" alt=\"Open In Colab\"/></a>"
      ]
    },
    {
      "cell_type": "markdown",
      "source": [
        "### This code uses `CountVectorizer` from `sklearn` to extract features from a given text corpus by converting it into a numerical representation called a bag-of-words."
      ],
      "metadata": {
        "id": "wzGY3yufOqj8"
      }
    },
    {
      "cell_type": "markdown",
      "source": [
        "1. The required libraries from scikit-learn are imported. The `CountVectorizer` class is used for tokenizing the text and creating the bag-of-words representation.\n",
        "\n",
        "2. `corpus` is a list of text sentences, where each sentence is treated as a document.\n",
        "\n",
        "3. A `CountVectorizer` object is created to convert the text corpus into a matrix of token counts.\n",
        "\n",
        "4. `fit_transform()` tokenizes the corpus into words and builds a vocabulary of unique tokens.\n",
        "\n",
        "  It creates a sparse matrix where rows represent documents and columns represent vocabulary words. Each cell contains the count of a word in a document.\n",
        "\n",
        "5. `vc.get_feature_names_out()` retrieves the list of unique tokens (vocabulary) identified by `CountVectorizer`.\n",
        "\n",
        "6. `vc_on_corpus.toarray()` Converts the sparse matrix into a dense array to display the counts of each word in each document.\n",
        "\n",
        "\n",
        "\n"
      ],
      "metadata": {
        "id": "L9D1XeayO0Kx"
      }
    },
    {
      "cell_type": "code",
      "execution_count": 1,
      "metadata": {
        "colab": {
          "base_uri": "https://localhost:8080/"
        },
        "id": "H9O1uoKkJAhk",
        "outputId": "5f6627c0-bd91-4d04-f874-dbf537685fdd"
      },
      "outputs": [
        {
          "output_type": "stream",
          "name": "stdout",
          "text": [
            "['books' 'cats' 'dogs' 'like' 'love']\n",
            "[[0 1 0 0 1]\n",
            " [0 0 1 0 2]\n",
            " [1 0 0 1 0]]\n"
          ]
        }
      ],
      "source": [
        "import sklearn\n",
        "from sklearn.feature_extraction.text import CountVectorizer\n",
        "\n",
        "corpus = ['I love cats', 'I love love dogs', 'I like books']\n",
        "\n",
        "vc = CountVectorizer()\n",
        "vc_on_corpus = vc.fit_transform(corpus)\n",
        "print(vc.get_feature_names_out())\n",
        "print(vc_on_corpus.toarray())"
      ]
    }
  ]
}
